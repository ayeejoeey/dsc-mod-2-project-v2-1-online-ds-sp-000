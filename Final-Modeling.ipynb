{
 "cells": [
  {
   "cell_type": "markdown",
   "metadata": {},
   "source": [
    "# Welcome to My Python Notebook (2/2) Final Modeling"
   ]
  },
  {
   "cell_type": "markdown",
   "metadata": {},
   "source": [
    "## Final Project Submission\n",
    "\n",
    "Please fill out:\n",
    "* Student name: Joe Sanchez\n",
    "* Student pace: self paced \n",
    "* Scheduled project review date/time: February 18th, 2021 1:30pm PST\n",
    "* Instructor name: Jeff Herman\n",
    "* Blog post URL:"
   ]
  },
  {
   "cell_type": "markdown",
   "metadata": {},
   "source": [
    "# Introduction:"
   ]
  },
  {
   "cell_type": "markdown",
   "metadata": {},
   "source": [
    "Hello and welcome to my second python notebook. In this notebook I will be modeling the King County Housing dataframe that has been cleaned and processed. I will be using Stats Models OLS to predict the pricing of houses as accurately as possible. \n",
    "\n",
    "The purpose of these models will be to give actionable insight to real estate agents working for a Real Estate Firm. I will be predicting prices for homes and their features such as bathrooms, condition, and square footage.\n",
    "\n",
    "Going forward I will be testing 3 Final Models using various parts of the dataframe and then comparing to see which Model proves most accurate."
   ]
  },
  {
   "cell_type": "markdown",
   "metadata": {},
   "source": [
    "# Libraries"
   ]
  },
  {
   "cell_type": "code",
   "execution_count": 1,
   "metadata": {},
   "outputs": [
    {
     "name": "stderr",
     "output_type": "stream",
     "text": [
      "/Users/Joe/opt/anaconda3/envs/learn-env/lib/python3.6/site-packages/statsmodels/tools/_testing.py:19: FutureWarning: pandas.util.testing is deprecated. Use the functions in the public API at pandas.testing instead.\n",
      "  import pandas.util.testing as tm\n"
     ]
    }
   ],
   "source": [
    "import numpy as np\n",
    "import pandas as pd\n",
    "import matplotlib.pyplot as plt\n",
    "%matplotlib inline\n",
    "import seaborn as sns\n",
    "import matplotlib as mpl\n",
    "from scipy import stats\n",
    "from sklearn.linear_model import LinearRegression\n",
    "from statsmodels.formula.api import ols\n",
    "import statsmodels.api as sm\n",
    "import statsmodels.stats.api as sms\n",
    "from sklearn.metrics import mean_squared_error\n",
    "from sklearn.model_selection import train_test_split\n",
    "from sklearn.model_selection import cross_val_score\n",
    "from sklearn.model_selection import KFold\n",
    "import warnings\n",
    "warnings.filterwarnings('ignore')"
   ]
  },
  {
   "cell_type": "code",
   "execution_count": 2,
   "metadata": {},
   "outputs": [],
   "source": [
    "\n",
    "sns.set_style(\"whitegrid\", {\"axes.facecolor\": \".9\"})"
   ]
  },
  {
   "cell_type": "code",
   "execution_count": 3,
   "metadata": {},
   "outputs": [],
   "source": [
    "# import final dataframe from previous notebook\n",
    "df = pd.read_csv('final_model_df.csv')"
   ]
  },
  {
   "cell_type": "code",
   "execution_count": 4,
   "metadata": {},
   "outputs": [
    {
     "name": "stdout",
     "output_type": "stream",
     "text": [
      "<class 'pandas.core.frame.DataFrame'>\n",
      "RangeIndex: 14208 entries, 0 to 14207\n",
      "Data columns (total 31 columns):\n",
      " #   Column                Non-Null Count  Dtype  \n",
      "---  ------                --------------  -----  \n",
      " 0   price                 14208 non-null  float64\n",
      " 1   sqft_living           14208 non-null  float64\n",
      " 2   lat                   14208 non-null  float64\n",
      " 3   long                  14208 non-null  float64\n",
      " 4   renovated_binary      14208 non-null  int64  \n",
      " 5   view_binary           14208 non-null  int64  \n",
      " 6   bdrms_2.0             14208 non-null  int64  \n",
      " 7   bdrms_3.0             14208 non-null  int64  \n",
      " 8   bdrms_4.0             14208 non-null  int64  \n",
      " 9   bdrms_5.0             14208 non-null  int64  \n",
      " 10  bdrms_6.0             14208 non-null  int64  \n",
      " 11  floor_2.0             14208 non-null  int64  \n",
      " 12  floor_3.0             14208 non-null  int64  \n",
      " 13  waterfront_1.0        14208 non-null  int64  \n",
      " 14  condition_2.0         14208 non-null  int64  \n",
      " 15  condition_3.0         14208 non-null  int64  \n",
      " 16  condition_4.0         14208 non-null  int64  \n",
      " 17  condition_5.0         14208 non-null  int64  \n",
      " 18  bathrooms_1.0         14208 non-null  int64  \n",
      " 19  bathrooms_2.0         14208 non-null  int64  \n",
      " 20  bathrooms_3.0         14208 non-null  int64  \n",
      " 21  bathrooms_4.0         14208 non-null  int64  \n",
      " 22  bathrooms_5.0         14208 non-null  int64  \n",
      " 23  grade_5.0             14208 non-null  int64  \n",
      " 24  grade_6.0             14208 non-null  int64  \n",
      " 25  grade_7.0             14208 non-null  int64  \n",
      " 26  grade_8.0             14208 non-null  int64  \n",
      " 27  grade_9.0             14208 non-null  int64  \n",
      " 28  grade_10.0            14208 non-null  int64  \n",
      " 29  grade_11.0            14208 non-null  int64  \n",
      " 30  sqft_basement_binary  14208 non-null  int64  \n",
      "dtypes: float64(4), int64(27)\n",
      "memory usage: 3.4 MB\n"
     ]
    }
   ],
   "source": [
    "df.info()"
   ]
  },
  {
   "cell_type": "markdown",
   "metadata": {},
   "source": [
    "# MODEL 1"
   ]
  },
  {
   "cell_type": "markdown",
   "metadata": {},
   "source": [
    "For the first model, I will be using the full dataframe to train and test. \n",
    "I will then validate the results to make sure the residuals are equal across a regression line."
   ]
  },
  {
   "cell_type": "code",
   "execution_count": 5,
   "metadata": {},
   "outputs": [],
   "source": [
    "# Create a train_test_split with a test size of 25% \n",
    "X = df.drop(['price'], axis=1)\n",
    "y = df['price']\n",
    "X_train, X_test, y_train, y_test = train_test_split(X,y, test_size=0.25, random_state=42)"
   ]
  },
  {
   "cell_type": "code",
   "execution_count": 6,
   "metadata": {},
   "outputs": [
    {
     "name": "stdout",
     "output_type": "stream",
     "text": [
      "10656 3552 10656 3552\n"
     ]
    }
   ],
   "source": [
    "# view test and train sizes\n",
    "print(len(X_train), len(X_test), len(y_train), len(y_test))"
   ]
  },
  {
   "cell_type": "code",
   "execution_count": 7,
   "metadata": {},
   "outputs": [
    {
     "data": {
      "text/plain": [
       "LinearRegression()"
      ]
     },
     "execution_count": 7,
     "metadata": {},
     "output_type": "execute_result"
    }
   ],
   "source": [
    "linreg = LinearRegression()\n",
    "\n",
    "linreg.fit(X_train, y_train)"
   ]
  },
  {
   "cell_type": "code",
   "execution_count": 8,
   "metadata": {},
   "outputs": [
    {
     "data": {
      "text/plain": [
       "LinearRegression()"
      ]
     },
     "execution_count": 8,
     "metadata": {},
     "output_type": "execute_result"
    }
   ],
   "source": [
    "LinearRegression(copy_X=True, fit_intercept=True, n_jobs=None, normalize=False)"
   ]
  },
  {
   "cell_type": "code",
   "execution_count": 9,
   "metadata": {},
   "outputs": [],
   "source": [
    "y_hat_train = linreg.predict(X_train)\n",
    "y_hat_test = linreg.predict(X_test)"
   ]
  },
  {
   "cell_type": "code",
   "execution_count": 10,
   "metadata": {},
   "outputs": [],
   "source": [
    "train_residuals = y_hat_train - y_train\n",
    "test_residuals = y_hat_test - y_test"
   ]
  },
  {
   "cell_type": "code",
   "execution_count": 11,
   "metadata": {},
   "outputs": [
    {
     "name": "stdout",
     "output_type": "stream",
     "text": [
      "Train Mean Squarred Error: 11807096185.819872\n",
      "Test Mean Squarred Error: 11346594972.934067\n",
      "108660.46284559932\n"
     ]
    }
   ],
   "source": [
    "# View the Train and Test Mean Squared Error\n",
    "train_mse = mean_squared_error(y_train, y_hat_train)\n",
    "test_mse = mean_squared_error(y_test, y_hat_test)\n",
    "print('Train Mean Squarred Error:', train_mse)\n",
    "print('Test Mean Squarred Error:', test_mse)\n",
    "\n",
    "print(np.sqrt(train_mse))"
   ]
  },
  {
   "cell_type": "code",
   "execution_count": 12,
   "metadata": {},
   "outputs": [
    {
     "data": {
      "text/html": [
       "<table class=\"simpletable\">\n",
       "<caption>OLS Regression Results</caption>\n",
       "<tr>\n",
       "  <th>Dep. Variable:</th>          <td>price</td>      <th>  R-squared:         </th>  <td>   0.650</td>  \n",
       "</tr>\n",
       "<tr>\n",
       "  <th>Model:</th>                   <td>OLS</td>       <th>  Adj. R-squared:    </th>  <td>   0.649</td>  \n",
       "</tr>\n",
       "<tr>\n",
       "  <th>Method:</th>             <td>Least Squares</td>  <th>  F-statistic:       </th>  <td>   657.7</td>  \n",
       "</tr>\n",
       "<tr>\n",
       "  <th>Date:</th>             <td>Thu, 18 Feb 2021</td> <th>  Prob (F-statistic):</th>   <td>  0.00</td>   \n",
       "</tr>\n",
       "<tr>\n",
       "  <th>Time:</th>                 <td>13:05:27</td>     <th>  Log-Likelihood:    </th> <td>-1.3869e+05</td>\n",
       "</tr>\n",
       "<tr>\n",
       "  <th>No. Observations:</th>      <td> 10656</td>      <th>  AIC:               </th>  <td>2.774e+05</td> \n",
       "</tr>\n",
       "<tr>\n",
       "  <th>Df Residuals:</th>          <td> 10625</td>      <th>  BIC:               </th>  <td>2.777e+05</td> \n",
       "</tr>\n",
       "<tr>\n",
       "  <th>Df Model:</th>              <td>    30</td>      <th>                     </th>      <td> </td>     \n",
       "</tr>\n",
       "<tr>\n",
       "  <th>Covariance Type:</th>      <td>nonrobust</td>    <th>                     </th>      <td> </td>     \n",
       "</tr>\n",
       "</table>\n",
       "<table class=\"simpletable\">\n",
       "<tr>\n",
       "            <td></td>              <th>coef</th>     <th>std err</th>      <th>t</th>      <th>P>|t|</th>  <th>[0.025</th>    <th>0.975]</th>  \n",
       "</tr>\n",
       "<tr>\n",
       "  <th>const</th>                <td>-3.467e+07</td> <td> 1.18e+06</td> <td>  -29.374</td> <td> 0.000</td> <td> -3.7e+07</td> <td>-3.24e+07</td>\n",
       "</tr>\n",
       "<tr>\n",
       "  <th>sqft_living</th>          <td>  100.6230</td> <td>    3.044</td> <td>   33.058</td> <td> 0.000</td> <td>   94.656</td> <td>  106.590</td>\n",
       "</tr>\n",
       "<tr>\n",
       "  <th>lat</th>                  <td> 6.092e+05</td> <td> 8050.155</td> <td>   75.677</td> <td> 0.000</td> <td> 5.93e+05</td> <td> 6.25e+05</td>\n",
       "</tr>\n",
       "<tr>\n",
       "  <th>long</th>                 <td>-4.711e+04</td> <td> 9486.585</td> <td>   -4.966</td> <td> 0.000</td> <td>-6.57e+04</td> <td>-2.85e+04</td>\n",
       "</tr>\n",
       "<tr>\n",
       "  <th>renovated_binary</th>     <td> 6.788e+04</td> <td> 6398.506</td> <td>   10.609</td> <td> 0.000</td> <td> 5.53e+04</td> <td> 8.04e+04</td>\n",
       "</tr>\n",
       "<tr>\n",
       "  <th>view_binary</th>          <td> 8.849e+04</td> <td> 4874.004</td> <td>   18.155</td> <td> 0.000</td> <td> 7.89e+04</td> <td>  9.8e+04</td>\n",
       "</tr>\n",
       "<tr>\n",
       "  <th>bdrms_2.0</th>            <td> -707.0489</td> <td> 1.04e+04</td> <td>   -0.068</td> <td> 0.946</td> <td>-2.11e+04</td> <td> 1.97e+04</td>\n",
       "</tr>\n",
       "<tr>\n",
       "  <th>bdrms_3.0</th>            <td>-1.551e+04</td> <td> 1.05e+04</td> <td>   -1.480</td> <td> 0.139</td> <td> -3.6e+04</td> <td> 5033.595</td>\n",
       "</tr>\n",
       "<tr>\n",
       "  <th>bdrms_4.0</th>            <td> -2.16e+04</td> <td> 1.08e+04</td> <td>   -1.996</td> <td> 0.046</td> <td>-4.28e+04</td> <td> -386.161</td>\n",
       "</tr>\n",
       "<tr>\n",
       "  <th>bdrms_5.0</th>            <td>-2.862e+04</td> <td> 1.19e+04</td> <td>   -2.410</td> <td> 0.016</td> <td>-5.19e+04</td> <td>-5340.126</td>\n",
       "</tr>\n",
       "<tr>\n",
       "  <th>bdrms_6.0</th>            <td>-1.673e+04</td> <td> 1.65e+04</td> <td>   -1.016</td> <td> 0.310</td> <td> -4.9e+04</td> <td> 1.56e+04</td>\n",
       "</tr>\n",
       "<tr>\n",
       "  <th>floor_2.0</th>            <td> 3.079e+04</td> <td> 2695.666</td> <td>   11.421</td> <td> 0.000</td> <td> 2.55e+04</td> <td> 3.61e+04</td>\n",
       "</tr>\n",
       "<tr>\n",
       "  <th>floor_3.0</th>            <td> 8818.7403</td> <td> 6240.021</td> <td>    1.413</td> <td> 0.158</td> <td>-3412.869</td> <td> 2.11e+04</td>\n",
       "</tr>\n",
       "<tr>\n",
       "  <th>waterfront_1.0</th>       <td> 2.426e+05</td> <td> 6.32e+04</td> <td>    3.840</td> <td> 0.000</td> <td> 1.19e+05</td> <td> 3.66e+05</td>\n",
       "</tr>\n",
       "<tr>\n",
       "  <th>condition_2.0</th>        <td>-2.622e+04</td> <td>  3.4e+04</td> <td>   -0.771</td> <td> 0.441</td> <td>-9.29e+04</td> <td> 4.05e+04</td>\n",
       "</tr>\n",
       "<tr>\n",
       "  <th>condition_3.0</th>        <td>-1.048e+04</td> <td> 3.18e+04</td> <td>   -0.329</td> <td> 0.742</td> <td>-7.28e+04</td> <td> 5.19e+04</td>\n",
       "</tr>\n",
       "<tr>\n",
       "  <th>condition_4.0</th>        <td> 3.085e+04</td> <td> 3.18e+04</td> <td>    0.969</td> <td> 0.333</td> <td>-3.16e+04</td> <td> 9.33e+04</td>\n",
       "</tr>\n",
       "<tr>\n",
       "  <th>condition_5.0</th>        <td> 6.656e+04</td> <td>  3.2e+04</td> <td>    2.081</td> <td> 0.037</td> <td> 3855.043</td> <td> 1.29e+05</td>\n",
       "</tr>\n",
       "<tr>\n",
       "  <th>bathrooms_1.0</th>        <td> 9.451e+04</td> <td> 5.46e+04</td> <td>    1.732</td> <td> 0.083</td> <td>-1.24e+04</td> <td> 2.01e+05</td>\n",
       "</tr>\n",
       "<tr>\n",
       "  <th>bathrooms_2.0</th>        <td> 7.554e+04</td> <td> 5.46e+04</td> <td>    1.384</td> <td> 0.166</td> <td>-3.15e+04</td> <td> 1.83e+05</td>\n",
       "</tr>\n",
       "<tr>\n",
       "  <th>bathrooms_3.0</th>        <td> 8.559e+04</td> <td> 5.47e+04</td> <td>    1.564</td> <td> 0.118</td> <td>-2.17e+04</td> <td> 1.93e+05</td>\n",
       "</tr>\n",
       "<tr>\n",
       "  <th>bathrooms_4.0</th>        <td> 8.629e+04</td> <td>  5.5e+04</td> <td>    1.568</td> <td> 0.117</td> <td>-2.16e+04</td> <td> 1.94e+05</td>\n",
       "</tr>\n",
       "<tr>\n",
       "  <th>bathrooms_5.0</th>        <td> 1.162e+05</td> <td> 8.37e+04</td> <td>    1.387</td> <td> 0.165</td> <td> -4.8e+04</td> <td>  2.8e+05</td>\n",
       "</tr>\n",
       "<tr>\n",
       "  <th>grade_5.0</th>            <td>  542.2202</td> <td> 3.49e+04</td> <td>    0.016</td> <td> 0.988</td> <td>-6.78e+04</td> <td> 6.89e+04</td>\n",
       "</tr>\n",
       "<tr>\n",
       "  <th>grade_6.0</th>            <td> 2.407e+04</td> <td> 3.37e+04</td> <td>    0.715</td> <td> 0.475</td> <td> -4.2e+04</td> <td> 9.01e+04</td>\n",
       "</tr>\n",
       "<tr>\n",
       "  <th>grade_7.0</th>            <td> 7.496e+04</td> <td> 3.37e+04</td> <td>    2.222</td> <td> 0.026</td> <td> 8841.209</td> <td> 1.41e+05</td>\n",
       "</tr>\n",
       "<tr>\n",
       "  <th>grade_8.0</th>            <td> 1.389e+05</td> <td> 3.39e+04</td> <td>    4.103</td> <td> 0.000</td> <td> 7.26e+04</td> <td> 2.05e+05</td>\n",
       "</tr>\n",
       "<tr>\n",
       "  <th>grade_9.0</th>            <td> 2.316e+05</td> <td> 3.41e+04</td> <td>    6.785</td> <td> 0.000</td> <td> 1.65e+05</td> <td> 2.99e+05</td>\n",
       "</tr>\n",
       "<tr>\n",
       "  <th>grade_10.0</th>           <td> 2.947e+05</td> <td> 3.51e+04</td> <td>    8.405</td> <td> 0.000</td> <td> 2.26e+05</td> <td> 3.63e+05</td>\n",
       "</tr>\n",
       "<tr>\n",
       "  <th>grade_11.0</th>           <td> 4.008e+05</td> <td> 5.36e+04</td> <td>    7.484</td> <td> 0.000</td> <td> 2.96e+05</td> <td> 5.06e+05</td>\n",
       "</tr>\n",
       "<tr>\n",
       "  <th>sqft_basement_binary</th> <td> 2.245e+04</td> <td> 2611.722</td> <td>    8.595</td> <td> 0.000</td> <td> 1.73e+04</td> <td> 2.76e+04</td>\n",
       "</tr>\n",
       "</table>\n",
       "<table class=\"simpletable\">\n",
       "<tr>\n",
       "  <th>Omnibus:</th>       <td>890.166</td> <th>  Durbin-Watson:     </th> <td>   2.017</td>\n",
       "</tr>\n",
       "<tr>\n",
       "  <th>Prob(Omnibus):</th> <td> 0.000</td>  <th>  Jarque-Bera (JB):  </th> <td>1570.339</td>\n",
       "</tr>\n",
       "<tr>\n",
       "  <th>Skew:</th>          <td> 0.602</td>  <th>  Prob(JB):          </th> <td>    0.00</td>\n",
       "</tr>\n",
       "<tr>\n",
       "  <th>Kurtosis:</th>      <td> 4.445</td>  <th>  Cond. No.          </th> <td>2.14e+06</td>\n",
       "</tr>\n",
       "</table><br/><br/>Warnings:<br/>[1] Standard Errors assume that the covariance matrix of the errors is correctly specified.<br/>[2] The condition number is large, 2.14e+06. This might indicate that there are<br/>strong multicollinearity or other numerical problems."
      ],
      "text/plain": [
       "<class 'statsmodels.iolib.summary.Summary'>\n",
       "\"\"\"\n",
       "                            OLS Regression Results                            \n",
       "==============================================================================\n",
       "Dep. Variable:                  price   R-squared:                       0.650\n",
       "Model:                            OLS   Adj. R-squared:                  0.649\n",
       "Method:                 Least Squares   F-statistic:                     657.7\n",
       "Date:                Thu, 18 Feb 2021   Prob (F-statistic):               0.00\n",
       "Time:                        13:05:27   Log-Likelihood:            -1.3869e+05\n",
       "No. Observations:               10656   AIC:                         2.774e+05\n",
       "Df Residuals:                   10625   BIC:                         2.777e+05\n",
       "Df Model:                          30                                         \n",
       "Covariance Type:            nonrobust                                         \n",
       "========================================================================================\n",
       "                           coef    std err          t      P>|t|      [0.025      0.975]\n",
       "----------------------------------------------------------------------------------------\n",
       "const                -3.467e+07   1.18e+06    -29.374      0.000    -3.7e+07   -3.24e+07\n",
       "sqft_living            100.6230      3.044     33.058      0.000      94.656     106.590\n",
       "lat                   6.092e+05   8050.155     75.677      0.000    5.93e+05    6.25e+05\n",
       "long                 -4.711e+04   9486.585     -4.966      0.000   -6.57e+04   -2.85e+04\n",
       "renovated_binary      6.788e+04   6398.506     10.609      0.000    5.53e+04    8.04e+04\n",
       "view_binary           8.849e+04   4874.004     18.155      0.000    7.89e+04     9.8e+04\n",
       "bdrms_2.0             -707.0489   1.04e+04     -0.068      0.946   -2.11e+04    1.97e+04\n",
       "bdrms_3.0            -1.551e+04   1.05e+04     -1.480      0.139    -3.6e+04    5033.595\n",
       "bdrms_4.0             -2.16e+04   1.08e+04     -1.996      0.046   -4.28e+04    -386.161\n",
       "bdrms_5.0            -2.862e+04   1.19e+04     -2.410      0.016   -5.19e+04   -5340.126\n",
       "bdrms_6.0            -1.673e+04   1.65e+04     -1.016      0.310    -4.9e+04    1.56e+04\n",
       "floor_2.0             3.079e+04   2695.666     11.421      0.000    2.55e+04    3.61e+04\n",
       "floor_3.0             8818.7403   6240.021      1.413      0.158   -3412.869    2.11e+04\n",
       "waterfront_1.0        2.426e+05   6.32e+04      3.840      0.000    1.19e+05    3.66e+05\n",
       "condition_2.0        -2.622e+04    3.4e+04     -0.771      0.441   -9.29e+04    4.05e+04\n",
       "condition_3.0        -1.048e+04   3.18e+04     -0.329      0.742   -7.28e+04    5.19e+04\n",
       "condition_4.0         3.085e+04   3.18e+04      0.969      0.333   -3.16e+04    9.33e+04\n",
       "condition_5.0         6.656e+04    3.2e+04      2.081      0.037    3855.043    1.29e+05\n",
       "bathrooms_1.0         9.451e+04   5.46e+04      1.732      0.083   -1.24e+04    2.01e+05\n",
       "bathrooms_2.0         7.554e+04   5.46e+04      1.384      0.166   -3.15e+04    1.83e+05\n",
       "bathrooms_3.0         8.559e+04   5.47e+04      1.564      0.118   -2.17e+04    1.93e+05\n",
       "bathrooms_4.0         8.629e+04    5.5e+04      1.568      0.117   -2.16e+04    1.94e+05\n",
       "bathrooms_5.0         1.162e+05   8.37e+04      1.387      0.165    -4.8e+04     2.8e+05\n",
       "grade_5.0              542.2202   3.49e+04      0.016      0.988   -6.78e+04    6.89e+04\n",
       "grade_6.0             2.407e+04   3.37e+04      0.715      0.475    -4.2e+04    9.01e+04\n",
       "grade_7.0             7.496e+04   3.37e+04      2.222      0.026    8841.209    1.41e+05\n",
       "grade_8.0             1.389e+05   3.39e+04      4.103      0.000    7.26e+04    2.05e+05\n",
       "grade_9.0             2.316e+05   3.41e+04      6.785      0.000    1.65e+05    2.99e+05\n",
       "grade_10.0            2.947e+05   3.51e+04      8.405      0.000    2.26e+05    3.63e+05\n",
       "grade_11.0            4.008e+05   5.36e+04      7.484      0.000    2.96e+05    5.06e+05\n",
       "sqft_basement_binary  2.245e+04   2611.722      8.595      0.000    1.73e+04    2.76e+04\n",
       "==============================================================================\n",
       "Omnibus:                      890.166   Durbin-Watson:                   2.017\n",
       "Prob(Omnibus):                  0.000   Jarque-Bera (JB):             1570.339\n",
       "Skew:                           0.602   Prob(JB):                         0.00\n",
       "Kurtosis:                       4.445   Cond. No.                     2.14e+06\n",
       "==============================================================================\n",
       "\n",
       "Warnings:\n",
       "[1] Standard Errors assume that the covariance matrix of the errors is correctly specified.\n",
       "[2] The condition number is large, 2.14e+06. This might indicate that there are\n",
       "strong multicollinearity or other numerical problems.\n",
       "\"\"\""
      ]
     },
     "execution_count": 12,
     "metadata": {},
     "output_type": "execute_result"
    }
   ],
   "source": [
    "predictors = X_train\n",
    "predictors_int = sm.add_constant(predictors)\n",
    "model = sm.OLS(y_train,predictors_int).fit()\n",
    "model.summary()"
   ]
  },
  {
   "cell_type": "markdown",
   "metadata": {},
   "source": [
    "The test error is lower than the train error which is good so far!\n",
    "\n",
    "Next I'm going to check for Heteroscedasticity "
   ]
  },
  {
   "cell_type": "code",
   "execution_count": 13,
   "metadata": {},
   "outputs": [
    {
     "data": {
      "text/plain": [
       "(array([1.100e+01, 4.800e+01, 1.850e+02, 6.380e+02, 2.433e+03, 4.662e+03,\n",
       "        2.310e+03, 3.430e+02, 2.300e+01, 3.000e+00]),\n",
       " array([-586230.59655499, -476872.14803682, -367513.69951864,\n",
       "        -258155.25100046, -148796.80248229,  -39438.35396411,\n",
       "          69920.09455407,  179278.54307225,  288636.99159042,\n",
       "         397995.4401086 ,  507353.88862678]),\n",
       " <a list of 10 Patch objects>)"
      ]
     },
     "execution_count": 13,
     "metadata": {},
     "output_type": "execute_result"
    },
    {
     "data": {
      "image/png": "[encoded data removed]",
      "text/plain": [
       "<Figure size 720x720 with 4 Axes>"
      ]
     },
     "metadata": {},
     "output_type": "display_data"
    }
   ],
   "source": [
    "fig = plt.figure(figsize=(10,10))\n",
    "fig.suptitle(\"Distribution of Model Residuals\")\n",
    "\n",
    "ax1 = fig.add_subplot(2,2,1) #Scatterplot of test residuals\n",
    "ax1.scatter(x=y_hat_test, y=test_residuals)\n",
    "ax1.set_title('Residuals of Test')\n",
    "ax1.set_xlabel('Predicted values of price')\n",
    "ax1.set_ylabel('Residuals')\n",
    "\n",
    "ax2 = fig.add_subplot(2,2,2) #Scatterplot of train residuals\n",
    "ax2.scatter(x=y_hat_train, y=train_residuals, c='orange')\n",
    "ax2.set_title('Residuals of Train')\n",
    "ax2.set_xlabel('Predicted values of price')\n",
    "ax2.set_ylabel('Residuals')\n",
    "\n",
    "ax3 = fig.add_subplot(2,2,3) #Histogram of test residuals\n",
    "ax3.hist(test_residuals) \n",
    "\n",
    "ax4 = fig.add_subplot(2,2,4) #Histogram of train residuals\n",
    "ax4.hist(train_residuals, color='orange')"
   ]
  },
  {
   "cell_type": "code",
   "execution_count": 14,
   "metadata": {},
   "outputs": [
    {
     "data": {
      "text/plain": [
       "<matplotlib.axes._subplots.AxesSubplot at 0x7fc922bfbdd8>"
      ]
     },
     "execution_count": 14,
     "metadata": {},
     "output_type": "execute_result"
    },
    {
     "data": {
      "image/png": "[encoded data removed]",
      "text/plain": [
       "<Figure size 432x288 with 1 Axes>"
      ]
     },
     "metadata": {},
     "output_type": "display_data"
    }
   ],
   "source": [
    "sns.regplot(model.fittedvalues,y_train)"
   ]
  },
  {
   "cell_type": "markdown",
   "metadata": {},
   "source": [
    "Heteroscedasticity checks out!\n",
    "\n",
    "Now I'm going to take a look at the coefficients to see how much each predictor costs!"
   ]
  },
  {
   "cell_type": "code",
   "execution_count": 15,
   "metadata": {},
   "outputs": [],
   "source": [
    "model_coefficients = pd.DataFrame(model.params[1:], columns=['coefficients'])"
   ]
  },
  {
   "cell_type": "code",
   "execution_count": 16,
   "metadata": {},
   "outputs": [
    {
     "data": {
      "text/html": [
       "<div>\n",
       "<style scoped>\n",
       "    .dataframe tbody tr th:only-of-type {\n",
       "        vertical-align: middle;\n",
       "    }\n",
       "\n",
       "    .dataframe tbody tr th {\n",
       "        vertical-align: top;\n",
       "    }\n",
       "\n",
       "    .dataframe thead th {\n",
       "        text-align: right;\n",
       "    }\n",
       "</style>\n",
       "<table border=\"1\" class=\"dataframe\">\n",
       "  <thead>\n",
       "    <tr style=\"text-align: right;\">\n",
       "      <th></th>\n",
       "      <th>coefficients</th>\n",
       "    </tr>\n",
       "  </thead>\n",
       "  <tbody>\n",
       "    <tr>\n",
       "      <th>lat</th>\n",
       "      <td>609211.236624</td>\n",
       "    </tr>\n",
       "    <tr>\n",
       "      <th>grade_11.0</th>\n",
       "      <td>400817.577842</td>\n",
       "    </tr>\n",
       "    <tr>\n",
       "      <th>grade_10.0</th>\n",
       "      <td>294695.377540</td>\n",
       "    </tr>\n",
       "    <tr>\n",
       "      <th>waterfront_1.0</th>\n",
       "      <td>242551.460996</td>\n",
       "    </tr>\n",
       "    <tr>\n",
       "      <th>grade_9.0</th>\n",
       "      <td>231598.709888</td>\n",
       "    </tr>\n",
       "    <tr>\n",
       "      <th>grade_8.0</th>\n",
       "      <td>138933.888158</td>\n",
       "    </tr>\n",
       "    <tr>\n",
       "      <th>bathrooms_5.0</th>\n",
       "      <td>116185.093009</td>\n",
       "    </tr>\n",
       "    <tr>\n",
       "      <th>bathrooms_1.0</th>\n",
       "      <td>94509.004647</td>\n",
       "    </tr>\n",
       "    <tr>\n",
       "      <th>view_binary</th>\n",
       "      <td>88487.172821</td>\n",
       "    </tr>\n",
       "    <tr>\n",
       "      <th>bathrooms_4.0</th>\n",
       "      <td>86288.728650</td>\n",
       "    </tr>\n",
       "    <tr>\n",
       "      <th>bathrooms_3.0</th>\n",
       "      <td>85591.211943</td>\n",
       "    </tr>\n",
       "    <tr>\n",
       "      <th>bathrooms_2.0</th>\n",
       "      <td>75539.992468</td>\n",
       "    </tr>\n",
       "    <tr>\n",
       "      <th>grade_7.0</th>\n",
       "      <td>74957.005143</td>\n",
       "    </tr>\n",
       "    <tr>\n",
       "      <th>renovated_binary</th>\n",
       "      <td>67881.156153</td>\n",
       "    </tr>\n",
       "    <tr>\n",
       "      <th>condition_5.0</th>\n",
       "      <td>66560.760975</td>\n",
       "    </tr>\n",
       "    <tr>\n",
       "      <th>condition_4.0</th>\n",
       "      <td>30848.696881</td>\n",
       "    </tr>\n",
       "    <tr>\n",
       "      <th>floor_2.0</th>\n",
       "      <td>30786.060993</td>\n",
       "    </tr>\n",
       "    <tr>\n",
       "      <th>grade_6.0</th>\n",
       "      <td>24071.760034</td>\n",
       "    </tr>\n",
       "    <tr>\n",
       "      <th>sqft_basement_binary</th>\n",
       "      <td>22446.807634</td>\n",
       "    </tr>\n",
       "    <tr>\n",
       "      <th>floor_3.0</th>\n",
       "      <td>8818.740345</td>\n",
       "    </tr>\n",
       "    <tr>\n",
       "      <th>grade_5.0</th>\n",
       "      <td>542.220201</td>\n",
       "    </tr>\n",
       "    <tr>\n",
       "      <th>sqft_living</th>\n",
       "      <td>100.622984</td>\n",
       "    </tr>\n",
       "    <tr>\n",
       "      <th>bdrms_2.0</th>\n",
       "      <td>-707.048882</td>\n",
       "    </tr>\n",
       "    <tr>\n",
       "      <th>condition_3.0</th>\n",
       "      <td>-10476.087139</td>\n",
       "    </tr>\n",
       "    <tr>\n",
       "      <th>bdrms_3.0</th>\n",
       "      <td>-15507.661275</td>\n",
       "    </tr>\n",
       "    <tr>\n",
       "      <th>bdrms_6.0</th>\n",
       "      <td>-16730.407258</td>\n",
       "    </tr>\n",
       "    <tr>\n",
       "      <th>bdrms_4.0</th>\n",
       "      <td>-21599.622230</td>\n",
       "    </tr>\n",
       "    <tr>\n",
       "      <th>condition_2.0</th>\n",
       "      <td>-26218.839037</td>\n",
       "    </tr>\n",
       "    <tr>\n",
       "      <th>bdrms_5.0</th>\n",
       "      <td>-28616.015412</td>\n",
       "    </tr>\n",
       "    <tr>\n",
       "      <th>long</th>\n",
       "      <td>-47106.029055</td>\n",
       "    </tr>\n",
       "  </tbody>\n",
       "</table>\n",
       "</div>"
      ],
      "text/plain": [
       "                       coefficients\n",
       "lat                   609211.236624\n",
       "grade_11.0            400817.577842\n",
       "grade_10.0            294695.377540\n",
       "waterfront_1.0        242551.460996\n",
       "grade_9.0             231598.709888\n",
       "grade_8.0             138933.888158\n",
       "bathrooms_5.0         116185.093009\n",
       "bathrooms_1.0          94509.004647\n",
       "view_binary            88487.172821\n",
       "bathrooms_4.0          86288.728650\n",
       "bathrooms_3.0          85591.211943\n",
       "bathrooms_2.0          75539.992468\n",
       "grade_7.0              74957.005143\n",
       "renovated_binary       67881.156153\n",
       "condition_5.0          66560.760975\n",
       "condition_4.0          30848.696881\n",
       "floor_2.0              30786.060993\n",
       "grade_6.0              24071.760034\n",
       "sqft_basement_binary   22446.807634\n",
       "floor_3.0               8818.740345\n",
       "grade_5.0                542.220201\n",
       "sqft_living              100.622984\n",
       "bdrms_2.0               -707.048882\n",
       "condition_3.0         -10476.087139\n",
       "bdrms_3.0             -15507.661275\n",
       "bdrms_6.0             -16730.407258\n",
       "bdrms_4.0             -21599.622230\n",
       "condition_2.0         -26218.839037\n",
       "bdrms_5.0             -28616.015412\n",
       "long                  -47106.029055"
      ]
     },
     "execution_count": 16,
     "metadata": {},
     "output_type": "execute_result"
    }
   ],
   "source": [
    "model_coefficients.sort_values(by='coefficients', ascending=False)\n"
   ]
  },
  {
   "cell_type": "markdown",
   "metadata": {},
   "source": [
    "After the first model, I'm satisfied with the results so far. However, there are a few predictors with p-values higher than 0.05 which is no good. The R^2 is fair, and the validations check out for Heteroscedasticity."
   ]
  },
  {
   "cell_type": "markdown",
   "metadata": {},
   "source": [
    "# MODEL 2"
   ]
  },
  {
   "cell_type": "markdown",
   "metadata": {},
   "source": [
    "For the next Model I'm going to run an OLS Model on the top 10 predictors that are highly correlated to price!"
   ]
  },
  {
   "cell_type": "markdown",
   "metadata": {},
   "source": [
    "First I'm going to view the correlation bar graph that I created and ran in the previous notebook!"
   ]
  },
  {
   "cell_type": "code",
   "execution_count": 17,
   "metadata": {},
   "outputs": [],
   "source": [
    "x = df.drop(columns=['price'], axis=1)\n",
    "y = df['price']\n",
    "\n",
    "correlation_to_price = []\n",
    "for col in x.columns:\n",
    "    correlation_to_price.append(round(stats.pearsonr(x[col],y)[0],2))\n",
    "\n",
    "correlation_dict={}\n",
    "for i, c in zip(x.columns,correlation_to_price):\n",
    "    correlation_dict[i] = c\n",
    "\n",
    "df_correlation = pd.DataFrame(sorted(correlation_dict.items(),key=lambda x:x[1],reverse=True),columns=['predictors','correlation'])\n"
   ]
  },
  {
   "cell_type": "code",
   "execution_count": 18,
   "metadata": {},
   "outputs": [
    {
     "data": {
      "text/plain": [
       "<matplotlib.axes._subplots.AxesSubplot at 0x7fc922e7e240>"
      ]
     },
     "execution_count": 18,
     "metadata": {},
     "output_type": "execute_result"
    },
    {
     "data": {
      "image/png": "[encoded data removed]",
      "text/plain": [
       "<Figure size 936x576 with 1 Axes>"
      ]
     },
     "metadata": {},
     "output_type": "display_data"
    }
   ],
   "source": [
    "fig, ax = plt.subplots(figsize=(13,8))\n",
    "\n",
    "plt.xticks(np.arange(-1,1,.05))\n",
    "plt.yticks(size=15)\n",
    "\n",
    "plt.title(\"Predictors in Correlation to Price\", size=20)\n",
    "plt.xlabel(\"Correlation\", size=20)\n",
    "plt.ylabel(\"Predictors\", size =20)\n",
    "\n",
    "\n",
    "sns.set_theme(font_scale=1)\n",
    "sns.barplot(df_correlation['correlation'],df_correlation['predictors'])"
   ]
  },
  {
   "cell_type": "markdown",
   "metadata": {},
   "source": [
    "Next I'm going to pick the top 10 highest correlated predictors to price and assign them to dataframe variable"
   ]
  },
  {
   "cell_type": "code",
   "execution_count": 19,
   "metadata": {},
   "outputs": [],
   "source": [
    "df2 = df[['price', 'grade_9.0','grade_10.0', 'sqft_living', 'lat', 'bathrooms_3.0', 'bathrooms_4.0', 'floor_2.0', 'grade_8.0', 'bdrms_4.0', 'view_binary']]\n",
    "\n"
   ]
  },
  {
   "cell_type": "code",
   "execution_count": 20,
   "metadata": {},
   "outputs": [
    {
     "data": {
      "text/html": [
       "<div>\n",
       "<style scoped>\n",
       "    .dataframe tbody tr th:only-of-type {\n",
       "        vertical-align: middle;\n",
       "    }\n",
       "\n",
       "    .dataframe tbody tr th {\n",
       "        vertical-align: top;\n",
       "    }\n",
       "\n",
       "    .dataframe thead th {\n",
       "        text-align: right;\n",
       "    }\n",
       "</style>\n",
       "<table border=\"1\" class=\"dataframe\">\n",
       "  <thead>\n",
       "    <tr style=\"text-align: right;\">\n",
       "      <th></th>\n",
       "      <th>price</th>\n",
       "      <th>grade_9.0</th>\n",
       "      <th>grade_10.0</th>\n",
       "      <th>sqft_living</th>\n",
       "      <th>lat</th>\n",
       "      <th>bathrooms_3.0</th>\n",
       "      <th>bathrooms_4.0</th>\n",
       "      <th>floor_2.0</th>\n",
       "      <th>grade_8.0</th>\n",
       "      <th>bdrms_4.0</th>\n",
       "      <th>view_binary</th>\n",
       "    </tr>\n",
       "  </thead>\n",
       "  <tbody>\n",
       "    <tr>\n",
       "      <th>0</th>\n",
       "      <td>221900.0</td>\n",
       "      <td>0</td>\n",
       "      <td>0</td>\n",
       "      <td>1180.0</td>\n",
       "      <td>47.5112</td>\n",
       "      <td>0</td>\n",
       "      <td>0</td>\n",
       "      <td>0</td>\n",
       "      <td>0</td>\n",
       "      <td>0</td>\n",
       "      <td>0</td>\n",
       "    </tr>\n",
       "    <tr>\n",
       "      <th>1</th>\n",
       "      <td>538000.0</td>\n",
       "      <td>0</td>\n",
       "      <td>0</td>\n",
       "      <td>2570.0</td>\n",
       "      <td>47.7210</td>\n",
       "      <td>0</td>\n",
       "      <td>0</td>\n",
       "      <td>1</td>\n",
       "      <td>0</td>\n",
       "      <td>0</td>\n",
       "      <td>0</td>\n",
       "    </tr>\n",
       "    <tr>\n",
       "      <th>2</th>\n",
       "      <td>180000.0</td>\n",
       "      <td>0</td>\n",
       "      <td>0</td>\n",
       "      <td>770.0</td>\n",
       "      <td>47.7379</td>\n",
       "      <td>0</td>\n",
       "      <td>0</td>\n",
       "      <td>0</td>\n",
       "      <td>0</td>\n",
       "      <td>0</td>\n",
       "      <td>0</td>\n",
       "    </tr>\n",
       "    <tr>\n",
       "      <th>3</th>\n",
       "      <td>604000.0</td>\n",
       "      <td>0</td>\n",
       "      <td>0</td>\n",
       "      <td>1960.0</td>\n",
       "      <td>47.5208</td>\n",
       "      <td>1</td>\n",
       "      <td>0</td>\n",
       "      <td>0</td>\n",
       "      <td>0</td>\n",
       "      <td>1</td>\n",
       "      <td>0</td>\n",
       "    </tr>\n",
       "    <tr>\n",
       "      <th>4</th>\n",
       "      <td>510000.0</td>\n",
       "      <td>0</td>\n",
       "      <td>0</td>\n",
       "      <td>1680.0</td>\n",
       "      <td>47.6168</td>\n",
       "      <td>0</td>\n",
       "      <td>0</td>\n",
       "      <td>0</td>\n",
       "      <td>1</td>\n",
       "      <td>0</td>\n",
       "      <td>0</td>\n",
       "    </tr>\n",
       "  </tbody>\n",
       "</table>\n",
       "</div>"
      ],
      "text/plain": [
       "      price  grade_9.0  grade_10.0  sqft_living      lat  bathrooms_3.0  \\\n",
       "0  221900.0          0           0       1180.0  47.5112              0   \n",
       "1  538000.0          0           0       2570.0  47.7210              0   \n",
       "2  180000.0          0           0        770.0  47.7379              0   \n",
       "3  604000.0          0           0       1960.0  47.5208              1   \n",
       "4  510000.0          0           0       1680.0  47.6168              0   \n",
       "\n",
       "   bathrooms_4.0  floor_2.0  grade_8.0  bdrms_4.0  view_binary  \n",
       "0              0          0          0          0            0  \n",
       "1              0          1          0          0            0  \n",
       "2              0          0          0          0            0  \n",
       "3              0          0          0          1            0  \n",
       "4              0          0          1          0            0  "
      ]
     },
     "execution_count": 20,
     "metadata": {},
     "output_type": "execute_result"
    }
   ],
   "source": [
    "df2.head()"
   ]
  },
  {
   "cell_type": "markdown",
   "metadata": {},
   "source": [
    "Now to run the OLS Model on the top 10 correlated predictors"
   ]
  },
  {
   "cell_type": "code",
   "execution_count": 21,
   "metadata": {},
   "outputs": [],
   "source": [
    "predictors2 = df2.drop(['price'], axis =1)"
   ]
  },
  {
   "cell_type": "code",
   "execution_count": 22,
   "metadata": {},
   "outputs": [
    {
     "data": {
      "text/html": [
       "<table class=\"simpletable\">\n",
       "<caption>OLS Regression Results</caption>\n",
       "<tr>\n",
       "  <th>Dep. Variable:</th>          <td>price</td>      <th>  R-squared:         </th>  <td>   0.619</td>  \n",
       "</tr>\n",
       "<tr>\n",
       "  <th>Model:</th>                   <td>OLS</td>       <th>  Adj. R-squared:    </th>  <td>   0.619</td>  \n",
       "</tr>\n",
       "<tr>\n",
       "  <th>Method:</th>             <td>Least Squares</td>  <th>  F-statistic:       </th>  <td>   2308.</td>  \n",
       "</tr>\n",
       "<tr>\n",
       "  <th>Date:</th>             <td>Thu, 18 Feb 2021</td> <th>  Prob (F-statistic):</th>   <td>  0.00</td>   \n",
       "</tr>\n",
       "<tr>\n",
       "  <th>Time:</th>                 <td>13:05:31</td>     <th>  Log-Likelihood:    </th> <td>-1.8552e+05</td>\n",
       "</tr>\n",
       "<tr>\n",
       "  <th>No. Observations:</th>      <td> 14208</td>      <th>  AIC:               </th>  <td>3.711e+05</td> \n",
       "</tr>\n",
       "<tr>\n",
       "  <th>Df Residuals:</th>          <td> 14197</td>      <th>  BIC:               </th>  <td>3.711e+05</td> \n",
       "</tr>\n",
       "<tr>\n",
       "  <th>Df Model:</th>              <td>    10</td>      <th>                     </th>      <td> </td>     \n",
       "</tr>\n",
       "<tr>\n",
       "  <th>Covariance Type:</th>      <td>nonrobust</td>    <th>                     </th>      <td> </td>     \n",
       "</tr>\n",
       "</table>\n",
       "<table class=\"simpletable\">\n",
       "<tr>\n",
       "        <td></td>           <th>coef</th>     <th>std err</th>      <th>t</th>      <th>P>|t|</th>  <th>[0.025</th>    <th>0.975]</th>  \n",
       "</tr>\n",
       "<tr>\n",
       "  <th>const</th>         <td>-3.072e+07</td> <td> 3.29e+05</td> <td>  -93.287</td> <td> 0.000</td> <td>-3.14e+07</td> <td>-3.01e+07</td>\n",
       "</tr>\n",
       "<tr>\n",
       "  <th>grade_9.0</th>     <td> 1.329e+05</td> <td> 4074.209</td> <td>   32.618</td> <td> 0.000</td> <td> 1.25e+05</td> <td> 1.41e+05</td>\n",
       "</tr>\n",
       "<tr>\n",
       "  <th>grade_10.0</th>    <td> 1.938e+05</td> <td> 8112.255</td> <td>   23.894</td> <td> 0.000</td> <td> 1.78e+05</td> <td>  2.1e+05</td>\n",
       "</tr>\n",
       "<tr>\n",
       "  <th>sqft_living</th>   <td>  104.6198</td> <td>    2.222</td> <td>   47.086</td> <td> 0.000</td> <td>  100.265</td> <td>  108.975</td>\n",
       "</tr>\n",
       "<tr>\n",
       "  <th>lat</th>           <td> 6.503e+05</td> <td> 6918.743</td> <td>   93.996</td> <td> 0.000</td> <td> 6.37e+05</td> <td> 6.64e+05</td>\n",
       "</tr>\n",
       "<tr>\n",
       "  <th>bathrooms_3.0</th> <td> 8790.1877</td> <td> 3601.027</td> <td>    2.441</td> <td> 0.015</td> <td> 1731.702</td> <td> 1.58e+04</td>\n",
       "</tr>\n",
       "<tr>\n",
       "  <th>bathrooms_4.0</th> <td> 9961.3925</td> <td> 6198.692</td> <td>    1.607</td> <td> 0.108</td> <td>-2188.857</td> <td> 2.21e+04</td>\n",
       "</tr>\n",
       "<tr>\n",
       "  <th>floor_2.0</th>     <td> 1.755e+04</td> <td> 2220.416</td> <td>    7.905</td> <td> 0.000</td> <td> 1.32e+04</td> <td> 2.19e+04</td>\n",
       "</tr>\n",
       "<tr>\n",
       "  <th>grade_8.0</th>     <td> 5.609e+04</td> <td> 2400.776</td> <td>   23.363</td> <td> 0.000</td> <td> 5.14e+04</td> <td> 6.08e+04</td>\n",
       "</tr>\n",
       "<tr>\n",
       "  <th>bdrms_4.0</th>     <td>-3233.7343</td> <td> 2383.271</td> <td>   -1.357</td> <td> 0.175</td> <td>-7905.257</td> <td> 1437.788</td>\n",
       "</tr>\n",
       "<tr>\n",
       "  <th>view_binary</th>   <td> 1.046e+05</td> <td> 4357.062</td> <td>   24.006</td> <td> 0.000</td> <td> 9.61e+04</td> <td> 1.13e+05</td>\n",
       "</tr>\n",
       "</table>\n",
       "<table class=\"simpletable\">\n",
       "<tr>\n",
       "  <th>Omnibus:</th>       <td>1245.027</td> <th>  Durbin-Watson:     </th> <td>   1.969</td>\n",
       "</tr>\n",
       "<tr>\n",
       "  <th>Prob(Omnibus):</th>  <td> 0.000</td>  <th>  Jarque-Bera (JB):  </th> <td>1979.745</td>\n",
       "</tr>\n",
       "<tr>\n",
       "  <th>Skew:</th>           <td> 0.662</td>  <th>  Prob(JB):          </th> <td>    0.00</td>\n",
       "</tr>\n",
       "<tr>\n",
       "  <th>Kurtosis:</th>       <td> 4.262</td>  <th>  Cond. No.          </th> <td>6.60e+05</td>\n",
       "</tr>\n",
       "</table><br/><br/>Warnings:<br/>[1] Standard Errors assume that the covariance matrix of the errors is correctly specified.<br/>[2] The condition number is large, 6.6e+05. This might indicate that there are<br/>strong multicollinearity or other numerical problems."
      ],
      "text/plain": [
       "<class 'statsmodels.iolib.summary.Summary'>\n",
       "\"\"\"\n",
       "                            OLS Regression Results                            \n",
       "==============================================================================\n",
       "Dep. Variable:                  price   R-squared:                       0.619\n",
       "Model:                            OLS   Adj. R-squared:                  0.619\n",
       "Method:                 Least Squares   F-statistic:                     2308.\n",
       "Date:                Thu, 18 Feb 2021   Prob (F-statistic):               0.00\n",
       "Time:                        13:05:31   Log-Likelihood:            -1.8552e+05\n",
       "No. Observations:               14208   AIC:                         3.711e+05\n",
       "Df Residuals:                   14197   BIC:                         3.711e+05\n",
       "Df Model:                          10                                         \n",
       "Covariance Type:            nonrobust                                         \n",
       "=================================================================================\n",
       "                    coef    std err          t      P>|t|      [0.025      0.975]\n",
       "---------------------------------------------------------------------------------\n",
       "const         -3.072e+07   3.29e+05    -93.287      0.000   -3.14e+07   -3.01e+07\n",
       "grade_9.0      1.329e+05   4074.209     32.618      0.000    1.25e+05    1.41e+05\n",
       "grade_10.0     1.938e+05   8112.255     23.894      0.000    1.78e+05     2.1e+05\n",
       "sqft_living     104.6198      2.222     47.086      0.000     100.265     108.975\n",
       "lat            6.503e+05   6918.743     93.996      0.000    6.37e+05    6.64e+05\n",
       "bathrooms_3.0  8790.1877   3601.027      2.441      0.015    1731.702    1.58e+04\n",
       "bathrooms_4.0  9961.3925   6198.692      1.607      0.108   -2188.857    2.21e+04\n",
       "floor_2.0      1.755e+04   2220.416      7.905      0.000    1.32e+04    2.19e+04\n",
       "grade_8.0      5.609e+04   2400.776     23.363      0.000    5.14e+04    6.08e+04\n",
       "bdrms_4.0     -3233.7343   2383.271     -1.357      0.175   -7905.257    1437.788\n",
       "view_binary    1.046e+05   4357.062     24.006      0.000    9.61e+04    1.13e+05\n",
       "==============================================================================\n",
       "Omnibus:                     1245.027   Durbin-Watson:                   1.969\n",
       "Prob(Omnibus):                  0.000   Jarque-Bera (JB):             1979.745\n",
       "Skew:                           0.662   Prob(JB):                         0.00\n",
       "Kurtosis:                       4.262   Cond. No.                     6.60e+05\n",
       "==============================================================================\n",
       "\n",
       "Warnings:\n",
       "[1] Standard Errors assume that the covariance matrix of the errors is correctly specified.\n",
       "[2] The condition number is large, 6.6e+05. This might indicate that there are\n",
       "strong multicollinearity or other numerical problems.\n",
       "\"\"\""
      ]
     },
     "execution_count": 22,
     "metadata": {},
     "output_type": "execute_result"
    }
   ],
   "source": [
    "predictors_int = sm.add_constant(predictors2)\n",
    "model2 = sm.OLS(df['price'],predictors_int).fit()\n",
    "model2.summary()"
   ]
  },
  {
   "cell_type": "code",
   "execution_count": 24,
   "metadata": {},
   "outputs": [
    {
     "name": "stdout",
     "output_type": "stream",
     "text": [
      "Train Mean Squarred Error: 12953139698.320284\n",
      "Test Mean Squarred Error: 12575298331.782574\n"
     ]
    }
   ],
   "source": [
    "X2 = df2.drop(['price'], axis=1)\n",
    "y2 = df2['price']\n",
    "X_train, X_test, y_train, y_test = train_test_split(X2,y2, test_size=0.25, random_state=42)\n",
    "\n",
    "linreg.fit(X_train, y_train)\n",
    "\n",
    "LinearRegression(copy_X=True, fit_intercept=True, n_jobs=None, normalize=False)\n",
    "\n",
    "y_hat_train = linreg.predict(X_train)\n",
    "y_hat_test = linreg.predict(X_test)\n",
    "\n",
    "train_residuals = y_hat_train - y_train\n",
    "test_residuals = y_hat_test - y_test\n",
    "\n",
    "train_mse = mean_squared_error(y_train, y_hat_train)\n",
    "test_mse = mean_squared_error(y_test, y_hat_test)\n",
    "print('Train Mean Squarred Error:', train_mse)\n",
    "print('Test Mean Squarred Error:', test_mse)"
   ]
  },
  {
   "cell_type": "code",
   "execution_count": 25,
   "metadata": {},
   "outputs": [
    {
     "data": {
      "text/plain": [
       "(array([2.000e+01, 9.300e+01, 3.530e+02, 1.007e+03, 3.227e+03, 4.286e+03,\n",
       "        1.508e+03, 1.530e+02, 7.000e+00, 2.000e+00]),\n",
       " array([-553808.15295492, -443819.2886581 , -333830.42436128,\n",
       "        -223841.56006447, -113852.69576765,   -3863.83147083,\n",
       "         106125.03282599,  216113.89712281,  326102.76141962,\n",
       "         436091.62571644,  546080.49001326]),\n",
       " <a list of 10 Patch objects>)"
      ]
     },
     "execution_count": 25,
     "metadata": {},
     "output_type": "execute_result"
    },
    {
     "data": {
      "image/png": "[encoded data removed]",
      "text/plain": [
       "<Figure size 720x720 with 4 Axes>"
      ]
     },
     "metadata": {},
     "output_type": "display_data"
    }
   ],
   "source": [
    "fig = plt.figure(figsize=(10,10))\n",
    "fig.suptitle(\"Distribution of Model Residuals\")\n",
    "\n",
    "ax1 = fig.add_subplot(2,2,1) #Scatterplot of test residuals\n",
    "ax1.scatter(x=y_hat_test, y=test_residuals)\n",
    "ax1.set_title('Residuals of Test')\n",
    "ax1.set_xlabel('Predicted values of price')\n",
    "ax1.set_ylabel('Residuals')\n",
    "\n",
    "ax2 = fig.add_subplot(2,2,2) #Scatterplot of train residuals\n",
    "ax2.scatter(x=y_hat_train, y=train_residuals, c='orange')\n",
    "ax2.set_title('Residuals of Train')\n",
    "ax2.set_xlabel('Predicted values of price')\n",
    "ax2.set_ylabel('Residuals')\n",
    "\n",
    "ax3 = fig.add_subplot(2,2,3) #Histogram of test residuals\n",
    "ax3.hist(test_residuals) \n",
    "\n",
    "ax4 = fig.add_subplot(2,2,4) #Histogram of train residuals\n",
    "ax4.hist(train_residuals, color='orange')"
   ]
  },
  {
   "cell_type": "markdown",
   "metadata": {},
   "source": [
    "After reviewing the model and checking for Heteroscedasticity, the results were fair. Although each predictor obtains a p-value less than 0.05, the R^2 Value was worse than our 1st Model. Which is not exactly what we're looking for."
   ]
  },
  {
   "cell_type": "markdown",
   "metadata": {},
   "source": [
    "# MODEL 3 FINAL"
   ]
  },
  {
   "cell_type": "markdown",
   "metadata": {},
   "source": [
    "For my last and final model, I will be using stepwise selection to create a list of predictors to use that have a p-value less than .05! By doing so, I should have a model with a high number of predictors that show statistical significance."
   ]
  },
  {
   "cell_type": "code",
   "execution_count": 26,
   "metadata": {},
   "outputs": [],
   "source": [
    "def stepwise_selection(X, y, \n",
    "                       initial_list=[], \n",
    "                       threshold_in=0.01, \n",
    "                       threshold_out = 0.05, \n",
    "                       verbose=True):\n",
    "    \"\"\" \n",
    "    Perform a forward-backward feature selection \n",
    "    based on p-value from statsmodels.api.OLS\n",
    "    Arguments:\n",
    "        X - pandas.DataFrame with candidate features\n",
    "        y - list-like with the target\n",
    "        initial_list - list of features to start with (column names of X)\n",
    "        threshold_in - include a feature if its p-value < threshold_in\n",
    "        threshold_out - exclude a feature if its p-value > threshold_out\n",
    "        verbose - whether to print the sequence of inclusions and exclusions\n",
    "    Returns: list of selected features \n",
    "    Always set threshold_in < threshold_out to avoid infinite looping.\n",
    "    See https://en.wikipedia.org/wiki/Stepwise_regression for the details\n",
    "    \"\"\"\n",
    "    included = list(initial_list)\n",
    "    while True:\n",
    "        changed=False\n",
    "        # forward step\n",
    "        excluded = list(set(X.columns)-set(included))\n",
    "        new_pval = pd.Series(index=excluded)\n",
    "        for new_column in excluded:\n",
    "            model = sm.OLS(y, sm.add_constant(pd.DataFrame(X[included+[new_column]]))).fit()\n",
    "            new_pval[new_column] = model.pvalues[new_column]\n",
    "        best_pval = new_pval.min()\n",
    "        if best_pval < threshold_in:\n",
    "            best_feature = new_pval.idxmin()\n",
    "            included.append(best_feature)\n",
    "            changed=True\n",
    "            if verbose:\n",
    "                print('Add  {:30} with p-value {:.6}'.format(best_feature, best_pval))\n",
    "\n",
    "        # backward step\n",
    "        model = sm.OLS(y, sm.add_constant(pd.DataFrame(X[included]))).fit()\n",
    "        # use all coefs except intercept\n",
    "        pvalues = model.pvalues.iloc[1:]\n",
    "        worst_pval = pvalues.max() # null if pvalues is empty\n",
    "        if worst_pval > threshold_out:\n",
    "            changed=True\n",
    "            worst_feature = included[pvalues.argmax()]\n",
    "            included.remove(worst_feature)\n",
    "            if verbose:\n",
    "                print('Drop {:30} with p-value {:.6}'.format(worst_feature, worst_pval))\n",
    "        if not changed:\n",
    "            break\n",
    "    return included\n"
   ]
  },
  {
   "cell_type": "code",
   "execution_count": 27,
   "metadata": {},
   "outputs": [
    {
     "ename": "ValueError",
     "evalue": "The indices for endog and exog are not aligned",
     "output_type": "error",
     "traceback": [
      "\u001b[0;31m---------------------------------------------------------------------------\u001b[0m",
      "\u001b[0;31mValueError\u001b[0m                                Traceback (most recent call last)",
      "\u001b[0;32m<ipython-input-27-8012d1ef6486>\u001b[0m in \u001b[0;36m<module>\u001b[0;34m\u001b[0m\n\u001b[0;32m----> 1\u001b[0;31m \u001b[0mresult\u001b[0m \u001b[0;34m=\u001b[0m \u001b[0mstepwise_selection\u001b[0m\u001b[0;34m(\u001b[0m\u001b[0mpredictors\u001b[0m\u001b[0;34m,\u001b[0m \u001b[0mdf\u001b[0m\u001b[0;34m[\u001b[0m\u001b[0;34m'price'\u001b[0m\u001b[0;34m]\u001b[0m\u001b[0;34m,\u001b[0m \u001b[0mverbose\u001b[0m\u001b[0;34m=\u001b[0m\u001b[0;32mTrue\u001b[0m\u001b[0;34m)\u001b[0m\u001b[0;34m\u001b[0m\u001b[0;34m\u001b[0m\u001b[0m\n\u001b[0m\u001b[1;32m      2\u001b[0m \u001b[0mprint\u001b[0m\u001b[0;34m(\u001b[0m\u001b[0;34m'resulting features:'\u001b[0m\u001b[0;34m)\u001b[0m\u001b[0;34m\u001b[0m\u001b[0;34m\u001b[0m\u001b[0m\n\u001b[1;32m      3\u001b[0m \u001b[0mprint\u001b[0m\u001b[0;34m(\u001b[0m\u001b[0mresult\u001b[0m\u001b[0;34m)\u001b[0m\u001b[0;34m\u001b[0m\u001b[0;34m\u001b[0m\u001b[0m\n",
      "\u001b[0;32m<ipython-input-26-5bb0420185a5>\u001b[0m in \u001b[0;36mstepwise_selection\u001b[0;34m(X, y, initial_list, threshold_in, threshold_out, verbose)\u001b[0m\n\u001b[1;32m     25\u001b[0m         \u001b[0mnew_pval\u001b[0m \u001b[0;34m=\u001b[0m \u001b[0mpd\u001b[0m\u001b[0;34m.\u001b[0m\u001b[0mSeries\u001b[0m\u001b[0;34m(\u001b[0m\u001b[0mindex\u001b[0m\u001b[0;34m=\u001b[0m\u001b[0mexcluded\u001b[0m\u001b[0;34m)\u001b[0m\u001b[0;34m\u001b[0m\u001b[0;34m\u001b[0m\u001b[0m\n\u001b[1;32m     26\u001b[0m         \u001b[0;32mfor\u001b[0m \u001b[0mnew_column\u001b[0m \u001b[0;32min\u001b[0m \u001b[0mexcluded\u001b[0m\u001b[0;34m:\u001b[0m\u001b[0;34m\u001b[0m\u001b[0;34m\u001b[0m\u001b[0m\n\u001b[0;32m---> 27\u001b[0;31m             \u001b[0mmodel\u001b[0m \u001b[0;34m=\u001b[0m \u001b[0msm\u001b[0m\u001b[0;34m.\u001b[0m\u001b[0mOLS\u001b[0m\u001b[0;34m(\u001b[0m\u001b[0my\u001b[0m\u001b[0;34m,\u001b[0m \u001b[0msm\u001b[0m\u001b[0;34m.\u001b[0m\u001b[0madd_constant\u001b[0m\u001b[0;34m(\u001b[0m\u001b[0mpd\u001b[0m\u001b[0;34m.\u001b[0m\u001b[0mDataFrame\u001b[0m\u001b[0;34m(\u001b[0m\u001b[0mX\u001b[0m\u001b[0;34m[\u001b[0m\u001b[0mincluded\u001b[0m\u001b[0;34m+\u001b[0m\u001b[0;34m[\u001b[0m\u001b[0mnew_column\u001b[0m\u001b[0;34m]\u001b[0m\u001b[0;34m]\u001b[0m\u001b[0;34m)\u001b[0m\u001b[0;34m)\u001b[0m\u001b[0;34m)\u001b[0m\u001b[0;34m.\u001b[0m\u001b[0mfit\u001b[0m\u001b[0;34m(\u001b[0m\u001b[0;34m)\u001b[0m\u001b[0;34m\u001b[0m\u001b[0;34m\u001b[0m\u001b[0m\n\u001b[0m\u001b[1;32m     28\u001b[0m             \u001b[0mnew_pval\u001b[0m\u001b[0;34m[\u001b[0m\u001b[0mnew_column\u001b[0m\u001b[0;34m]\u001b[0m \u001b[0;34m=\u001b[0m \u001b[0mmodel\u001b[0m\u001b[0;34m.\u001b[0m\u001b[0mpvalues\u001b[0m\u001b[0;34m[\u001b[0m\u001b[0mnew_column\u001b[0m\u001b[0;34m]\u001b[0m\u001b[0;34m\u001b[0m\u001b[0;34m\u001b[0m\u001b[0m\n\u001b[1;32m     29\u001b[0m         \u001b[0mbest_pval\u001b[0m \u001b[0;34m=\u001b[0m \u001b[0mnew_pval\u001b[0m\u001b[0;34m.\u001b[0m\u001b[0mmin\u001b[0m\u001b[0;34m(\u001b[0m\u001b[0;34m)\u001b[0m\u001b[0;34m\u001b[0m\u001b[0;34m\u001b[0m\u001b[0m\n",
      "\u001b[0;32m~/opt/anaconda3/envs/learn-env/lib/python3.6/site-packages/statsmodels/regression/linear_model.py\u001b[0m in \u001b[0;36m__init__\u001b[0;34m(self, endog, exog, missing, hasconst, **kwargs)\u001b[0m\n\u001b[1;32m    836\u001b[0m                  **kwargs):\n\u001b[1;32m    837\u001b[0m         super(OLS, self).__init__(endog, exog, missing=missing,\n\u001b[0;32m--> 838\u001b[0;31m                                   hasconst=hasconst, **kwargs)\n\u001b[0m\u001b[1;32m    839\u001b[0m         \u001b[0;32mif\u001b[0m \u001b[0;34m\"weights\"\u001b[0m \u001b[0;32min\u001b[0m \u001b[0mself\u001b[0m\u001b[0;34m.\u001b[0m\u001b[0m_init_keys\u001b[0m\u001b[0;34m:\u001b[0m\u001b[0;34m\u001b[0m\u001b[0;34m\u001b[0m\u001b[0m\n\u001b[1;32m    840\u001b[0m             \u001b[0mself\u001b[0m\u001b[0;34m.\u001b[0m\u001b[0m_init_keys\u001b[0m\u001b[0;34m.\u001b[0m\u001b[0mremove\u001b[0m\u001b[0;34m(\u001b[0m\u001b[0;34m\"weights\"\u001b[0m\u001b[0;34m)\u001b[0m\u001b[0;34m\u001b[0m\u001b[0;34m\u001b[0m\u001b[0m\n",
      "\u001b[0;32m~/opt/anaconda3/envs/learn-env/lib/python3.6/site-packages/statsmodels/regression/linear_model.py\u001b[0m in \u001b[0;36m__init__\u001b[0;34m(self, endog, exog, weights, missing, hasconst, **kwargs)\u001b[0m\n\u001b[1;32m    682\u001b[0m             \u001b[0mweights\u001b[0m \u001b[0;34m=\u001b[0m \u001b[0mweights\u001b[0m\u001b[0;34m.\u001b[0m\u001b[0msqueeze\u001b[0m\u001b[0;34m(\u001b[0m\u001b[0;34m)\u001b[0m\u001b[0;34m\u001b[0m\u001b[0;34m\u001b[0m\u001b[0m\n\u001b[1;32m    683\u001b[0m         super(WLS, self).__init__(endog, exog, missing=missing,\n\u001b[0;32m--> 684\u001b[0;31m                                   weights=weights, hasconst=hasconst, **kwargs)\n\u001b[0m\u001b[1;32m    685\u001b[0m         \u001b[0mnobs\u001b[0m \u001b[0;34m=\u001b[0m \u001b[0mself\u001b[0m\u001b[0;34m.\u001b[0m\u001b[0mexog\u001b[0m\u001b[0;34m.\u001b[0m\u001b[0mshape\u001b[0m\u001b[0;34m[\u001b[0m\u001b[0;36m0\u001b[0m\u001b[0;34m]\u001b[0m\u001b[0;34m\u001b[0m\u001b[0;34m\u001b[0m\u001b[0m\n\u001b[1;32m    686\u001b[0m         \u001b[0mweights\u001b[0m \u001b[0;34m=\u001b[0m \u001b[0mself\u001b[0m\u001b[0;34m.\u001b[0m\u001b[0mweights\u001b[0m\u001b[0;34m\u001b[0m\u001b[0;34m\u001b[0m\u001b[0m\n",
      "\u001b[0;32m~/opt/anaconda3/envs/learn-env/lib/python3.6/site-packages/statsmodels/regression/linear_model.py\u001b[0m in \u001b[0;36m__init__\u001b[0;34m(self, endog, exog, **kwargs)\u001b[0m\n\u001b[1;32m    194\u001b[0m     \"\"\"\n\u001b[1;32m    195\u001b[0m     \u001b[0;32mdef\u001b[0m \u001b[0m__init__\u001b[0m\u001b[0;34m(\u001b[0m\u001b[0mself\u001b[0m\u001b[0;34m,\u001b[0m \u001b[0mendog\u001b[0m\u001b[0;34m,\u001b[0m \u001b[0mexog\u001b[0m\u001b[0;34m,\u001b[0m \u001b[0;34m**\u001b[0m\u001b[0mkwargs\u001b[0m\u001b[0;34m)\u001b[0m\u001b[0;34m:\u001b[0m\u001b[0;34m\u001b[0m\u001b[0;34m\u001b[0m\u001b[0m\n\u001b[0;32m--> 196\u001b[0;31m         \u001b[0msuper\u001b[0m\u001b[0;34m(\u001b[0m\u001b[0mRegressionModel\u001b[0m\u001b[0;34m,\u001b[0m \u001b[0mself\u001b[0m\u001b[0;34m)\u001b[0m\u001b[0;34m.\u001b[0m\u001b[0m__init__\u001b[0m\u001b[0;34m(\u001b[0m\u001b[0mendog\u001b[0m\u001b[0;34m,\u001b[0m \u001b[0mexog\u001b[0m\u001b[0;34m,\u001b[0m \u001b[0;34m**\u001b[0m\u001b[0mkwargs\u001b[0m\u001b[0;34m)\u001b[0m\u001b[0;34m\u001b[0m\u001b[0;34m\u001b[0m\u001b[0m\n\u001b[0m\u001b[1;32m    197\u001b[0m         \u001b[0mself\u001b[0m\u001b[0;34m.\u001b[0m\u001b[0m_data_attr\u001b[0m\u001b[0;34m.\u001b[0m\u001b[0mextend\u001b[0m\u001b[0;34m(\u001b[0m\u001b[0;34m[\u001b[0m\u001b[0;34m'pinv_wexog'\u001b[0m\u001b[0;34m,\u001b[0m \u001b[0;34m'wendog'\u001b[0m\u001b[0;34m,\u001b[0m \u001b[0;34m'wexog'\u001b[0m\u001b[0;34m,\u001b[0m \u001b[0;34m'weights'\u001b[0m\u001b[0;34m]\u001b[0m\u001b[0;34m)\u001b[0m\u001b[0;34m\u001b[0m\u001b[0;34m\u001b[0m\u001b[0m\n\u001b[1;32m    198\u001b[0m \u001b[0;34m\u001b[0m\u001b[0m\n",
      "\u001b[0;32m~/opt/anaconda3/envs/learn-env/lib/python3.6/site-packages/statsmodels/base/model.py\u001b[0m in \u001b[0;36m__init__\u001b[0;34m(self, endog, exog, **kwargs)\u001b[0m\n\u001b[1;32m    214\u001b[0m \u001b[0;34m\u001b[0m\u001b[0m\n\u001b[1;32m    215\u001b[0m     \u001b[0;32mdef\u001b[0m \u001b[0m__init__\u001b[0m\u001b[0;34m(\u001b[0m\u001b[0mself\u001b[0m\u001b[0;34m,\u001b[0m \u001b[0mendog\u001b[0m\u001b[0;34m,\u001b[0m \u001b[0mexog\u001b[0m\u001b[0;34m=\u001b[0m\u001b[0;32mNone\u001b[0m\u001b[0;34m,\u001b[0m \u001b[0;34m**\u001b[0m\u001b[0mkwargs\u001b[0m\u001b[0;34m)\u001b[0m\u001b[0;34m:\u001b[0m\u001b[0;34m\u001b[0m\u001b[0;34m\u001b[0m\u001b[0m\n\u001b[0;32m--> 216\u001b[0;31m         \u001b[0msuper\u001b[0m\u001b[0;34m(\u001b[0m\u001b[0mLikelihoodModel\u001b[0m\u001b[0;34m,\u001b[0m \u001b[0mself\u001b[0m\u001b[0;34m)\u001b[0m\u001b[0;34m.\u001b[0m\u001b[0m__init__\u001b[0m\u001b[0;34m(\u001b[0m\u001b[0mendog\u001b[0m\u001b[0;34m,\u001b[0m \u001b[0mexog\u001b[0m\u001b[0;34m,\u001b[0m \u001b[0;34m**\u001b[0m\u001b[0mkwargs\u001b[0m\u001b[0;34m)\u001b[0m\u001b[0;34m\u001b[0m\u001b[0;34m\u001b[0m\u001b[0m\n\u001b[0m\u001b[1;32m    217\u001b[0m         \u001b[0mself\u001b[0m\u001b[0;34m.\u001b[0m\u001b[0minitialize\u001b[0m\u001b[0;34m(\u001b[0m\u001b[0;34m)\u001b[0m\u001b[0;34m\u001b[0m\u001b[0;34m\u001b[0m\u001b[0m\n\u001b[1;32m    218\u001b[0m \u001b[0;34m\u001b[0m\u001b[0m\n",
      "\u001b[0;32m~/opt/anaconda3/envs/learn-env/lib/python3.6/site-packages/statsmodels/base/model.py\u001b[0m in \u001b[0;36m__init__\u001b[0;34m(self, endog, exog, **kwargs)\u001b[0m\n\u001b[1;32m     66\u001b[0m         \u001b[0mhasconst\u001b[0m \u001b[0;34m=\u001b[0m \u001b[0mkwargs\u001b[0m\u001b[0;34m.\u001b[0m\u001b[0mpop\u001b[0m\u001b[0;34m(\u001b[0m\u001b[0;34m'hasconst'\u001b[0m\u001b[0;34m,\u001b[0m \u001b[0;32mNone\u001b[0m\u001b[0;34m)\u001b[0m\u001b[0;34m\u001b[0m\u001b[0;34m\u001b[0m\u001b[0m\n\u001b[1;32m     67\u001b[0m         self.data = self._handle_data(endog, exog, missing, hasconst,\n\u001b[0;32m---> 68\u001b[0;31m                                       **kwargs)\n\u001b[0m\u001b[1;32m     69\u001b[0m         \u001b[0mself\u001b[0m\u001b[0;34m.\u001b[0m\u001b[0mk_constant\u001b[0m \u001b[0;34m=\u001b[0m \u001b[0mself\u001b[0m\u001b[0;34m.\u001b[0m\u001b[0mdata\u001b[0m\u001b[0;34m.\u001b[0m\u001b[0mk_constant\u001b[0m\u001b[0;34m\u001b[0m\u001b[0;34m\u001b[0m\u001b[0m\n\u001b[1;32m     70\u001b[0m         \u001b[0mself\u001b[0m\u001b[0;34m.\u001b[0m\u001b[0mexog\u001b[0m \u001b[0;34m=\u001b[0m \u001b[0mself\u001b[0m\u001b[0;34m.\u001b[0m\u001b[0mdata\u001b[0m\u001b[0;34m.\u001b[0m\u001b[0mexog\u001b[0m\u001b[0;34m\u001b[0m\u001b[0;34m\u001b[0m\u001b[0m\n",
      "\u001b[0;32m~/opt/anaconda3/envs/learn-env/lib/python3.6/site-packages/statsmodels/base/model.py\u001b[0m in \u001b[0;36m_handle_data\u001b[0;34m(self, endog, exog, missing, hasconst, **kwargs)\u001b[0m\n\u001b[1;32m     89\u001b[0m \u001b[0;34m\u001b[0m\u001b[0m\n\u001b[1;32m     90\u001b[0m     \u001b[0;32mdef\u001b[0m \u001b[0m_handle_data\u001b[0m\u001b[0;34m(\u001b[0m\u001b[0mself\u001b[0m\u001b[0;34m,\u001b[0m \u001b[0mendog\u001b[0m\u001b[0;34m,\u001b[0m \u001b[0mexog\u001b[0m\u001b[0;34m,\u001b[0m \u001b[0mmissing\u001b[0m\u001b[0;34m,\u001b[0m \u001b[0mhasconst\u001b[0m\u001b[0;34m,\u001b[0m \u001b[0;34m**\u001b[0m\u001b[0mkwargs\u001b[0m\u001b[0;34m)\u001b[0m\u001b[0;34m:\u001b[0m\u001b[0;34m\u001b[0m\u001b[0;34m\u001b[0m\u001b[0m\n\u001b[0;32m---> 91\u001b[0;31m         \u001b[0mdata\u001b[0m \u001b[0;34m=\u001b[0m \u001b[0mhandle_data\u001b[0m\u001b[0;34m(\u001b[0m\u001b[0mendog\u001b[0m\u001b[0;34m,\u001b[0m \u001b[0mexog\u001b[0m\u001b[0;34m,\u001b[0m \u001b[0mmissing\u001b[0m\u001b[0;34m,\u001b[0m \u001b[0mhasconst\u001b[0m\u001b[0;34m,\u001b[0m \u001b[0;34m**\u001b[0m\u001b[0mkwargs\u001b[0m\u001b[0;34m)\u001b[0m\u001b[0;34m\u001b[0m\u001b[0;34m\u001b[0m\u001b[0m\n\u001b[0m\u001b[1;32m     92\u001b[0m         \u001b[0;31m# kwargs arrays could have changed, easier to just attach here\u001b[0m\u001b[0;34m\u001b[0m\u001b[0;34m\u001b[0m\u001b[0;34m\u001b[0m\u001b[0m\n\u001b[1;32m     93\u001b[0m         \u001b[0;32mfor\u001b[0m \u001b[0mkey\u001b[0m \u001b[0;32min\u001b[0m \u001b[0mkwargs\u001b[0m\u001b[0;34m:\u001b[0m\u001b[0;34m\u001b[0m\u001b[0;34m\u001b[0m\u001b[0m\n",
      "\u001b[0;32m~/opt/anaconda3/envs/learn-env/lib/python3.6/site-packages/statsmodels/base/data.py\u001b[0m in \u001b[0;36mhandle_data\u001b[0;34m(endog, exog, missing, hasconst, **kwargs)\u001b[0m\n\u001b[1;32m    633\u001b[0m     \u001b[0mklass\u001b[0m \u001b[0;34m=\u001b[0m \u001b[0mhandle_data_class_factory\u001b[0m\u001b[0;34m(\u001b[0m\u001b[0mendog\u001b[0m\u001b[0;34m,\u001b[0m \u001b[0mexog\u001b[0m\u001b[0;34m)\u001b[0m\u001b[0;34m\u001b[0m\u001b[0;34m\u001b[0m\u001b[0m\n\u001b[1;32m    634\u001b[0m     return klass(endog, exog=exog, missing=missing, hasconst=hasconst,\n\u001b[0;32m--> 635\u001b[0;31m                  **kwargs)\n\u001b[0m",
      "\u001b[0;32m~/opt/anaconda3/envs/learn-env/lib/python3.6/site-packages/statsmodels/base/data.py\u001b[0m in \u001b[0;36m__init__\u001b[0;34m(self, endog, exog, missing, hasconst, **kwargs)\u001b[0m\n\u001b[1;32m     79\u001b[0m         \u001b[0mself\u001b[0m\u001b[0;34m.\u001b[0m\u001b[0mk_constant\u001b[0m \u001b[0;34m=\u001b[0m \u001b[0;36m0\u001b[0m\u001b[0;34m\u001b[0m\u001b[0;34m\u001b[0m\u001b[0m\n\u001b[1;32m     80\u001b[0m         \u001b[0mself\u001b[0m\u001b[0;34m.\u001b[0m\u001b[0m_handle_constant\u001b[0m\u001b[0;34m(\u001b[0m\u001b[0mhasconst\u001b[0m\u001b[0;34m)\u001b[0m\u001b[0;34m\u001b[0m\u001b[0;34m\u001b[0m\u001b[0m\n\u001b[0;32m---> 81\u001b[0;31m         \u001b[0mself\u001b[0m\u001b[0;34m.\u001b[0m\u001b[0m_check_integrity\u001b[0m\u001b[0;34m(\u001b[0m\u001b[0;34m)\u001b[0m\u001b[0;34m\u001b[0m\u001b[0;34m\u001b[0m\u001b[0m\n\u001b[0m\u001b[1;32m     82\u001b[0m         \u001b[0mself\u001b[0m\u001b[0;34m.\u001b[0m\u001b[0m_cache\u001b[0m \u001b[0;34m=\u001b[0m \u001b[0;34m{\u001b[0m\u001b[0;34m}\u001b[0m\u001b[0;34m\u001b[0m\u001b[0;34m\u001b[0m\u001b[0m\n\u001b[1;32m     83\u001b[0m \u001b[0;34m\u001b[0m\u001b[0m\n",
      "\u001b[0;32m~/opt/anaconda3/envs/learn-env/lib/python3.6/site-packages/statsmodels/base/data.py\u001b[0m in \u001b[0;36m_check_integrity\u001b[0;34m(self)\u001b[0m\n\u001b[1;32m    497\u001b[0m                 \u001b[0;34m(\u001b[0m\u001b[0mhasattr\u001b[0m\u001b[0;34m(\u001b[0m\u001b[0mendog\u001b[0m\u001b[0;34m,\u001b[0m \u001b[0;34m'index'\u001b[0m\u001b[0;34m)\u001b[0m \u001b[0;32mand\u001b[0m \u001b[0mhasattr\u001b[0m\u001b[0;34m(\u001b[0m\u001b[0mexog\u001b[0m\u001b[0;34m,\u001b[0m \u001b[0;34m'index'\u001b[0m\u001b[0;34m)\u001b[0m\u001b[0;34m)\u001b[0m \u001b[0;32mand\u001b[0m\u001b[0;34m\u001b[0m\u001b[0;34m\u001b[0m\u001b[0m\n\u001b[1;32m    498\u001b[0m                 not self.orig_endog.index.equals(self.orig_exog.index)):\n\u001b[0;32m--> 499\u001b[0;31m             \u001b[0;32mraise\u001b[0m \u001b[0mValueError\u001b[0m\u001b[0;34m(\u001b[0m\u001b[0;34m\"The indices for endog and exog are not aligned\"\u001b[0m\u001b[0;34m)\u001b[0m\u001b[0;34m\u001b[0m\u001b[0;34m\u001b[0m\u001b[0m\n\u001b[0m\u001b[1;32m    500\u001b[0m         \u001b[0msuper\u001b[0m\u001b[0;34m(\u001b[0m\u001b[0mPandasData\u001b[0m\u001b[0;34m,\u001b[0m \u001b[0mself\u001b[0m\u001b[0;34m)\u001b[0m\u001b[0;34m.\u001b[0m\u001b[0m_check_integrity\u001b[0m\u001b[0;34m(\u001b[0m\u001b[0;34m)\u001b[0m\u001b[0;34m\u001b[0m\u001b[0;34m\u001b[0m\u001b[0m\n\u001b[1;32m    501\u001b[0m \u001b[0;34m\u001b[0m\u001b[0m\n",
      "\u001b[0;31mValueError\u001b[0m: The indices for endog and exog are not aligned"
     ]
    }
   ],
   "source": [
    "result = stepwise_selection(predictors, df['price'], verbose=True)\n",
    "print('resulting features:')\n",
    "print(result)"
   ]
  },
  {
   "cell_type": "markdown",
   "metadata": {},
   "source": [
    "Perfect! Now I am going to apply this to the same OLS Model i've been using"
   ]
  },
  {
   "cell_type": "code",
   "execution_count": null,
   "metadata": {},
   "outputs": [],
   "source": [
    "predictors4 = X[result]\n",
    "X_with_intercept = sm.add_constant(predictors4)\n",
    "model4 = sm.OLS(y,X_with_intercept).fit()\n",
    "model4.summary()"
   ]
  },
  {
   "cell_type": "code",
   "execution_count": null,
   "metadata": {},
   "outputs": [],
   "source": [
    "df5 = pd.read_csv('prepro_df.csv')"
   ]
  },
  {
   "cell_type": "code",
   "execution_count": null,
   "metadata": {},
   "outputs": [],
   "source": [
    "y = df5['price']"
   ]
  },
  {
   "cell_type": "code",
   "execution_count": null,
   "metadata": {},
   "outputs": [],
   "source": [
    "predictors5 = df5.drop(['price'], axis=1)\n",
    "X_with_intercept = sm.add_constant(predictors5)\n",
    "model4 = sm.OLS(y,X_with_intercept).fit()\n",
    "model4.summary()"
   ]
  },
  {
   "cell_type": "code",
   "execution_count": null,
   "metadata": {},
   "outputs": [],
   "source": [
    "X3 = X[result]\n",
    "y3 = df['price']\n",
    "X_train, X_test, y_train, y_test = train_test_split(X3,y3, test_size=0.25, random_state=42)\n",
    "\n",
    "linreg.fit(X_train, y_train)\n",
    "\n",
    "LinearRegression(copy_X=True, fit_intercept=True, n_jobs=None, normalize=False)\n",
    "\n",
    "y_hat_train = linreg.predict(X_train)\n",
    "y_hat_test = linreg.predict(X_test)\n",
    "\n",
    "train_residuals = y_hat_train - y_train\n",
    "test_residuals = y_hat_test - y_test\n",
    "\n",
    "train_mse = mean_squared_error(y_train, y_hat_train)\n",
    "test_mse = mean_squared_error(y_test, y_hat_test)\n",
    "print('Train Mean Squarred Error:', train_mse)\n",
    "print('Test Mean Squarred Error:', test_mse)"
   ]
  },
  {
   "cell_type": "code",
   "execution_count": null,
   "metadata": {},
   "outputs": [],
   "source": [
    "fig = plt.figure(figsize=(10,10))\n",
    "fig.suptitle(\"Distribution of Model Residuals\")\n",
    "\n",
    "ax1 = fig.add_subplot(2,2,1) #Scatterplot of test residuals\n",
    "ax1.scatter(x=y_hat_test, y=test_residuals)\n",
    "ax1.set_title('Residuals of Test')\n",
    "ax1.set_xlabel('Predicted values of price')\n",
    "ax1.set_ylabel('Residuals')\n",
    "\n",
    "ax2 = fig.add_subplot(2,2,2) #Scatterplot of train residuals\n",
    "ax2.scatter(x=y_hat_train, y=train_residuals, c='orange')\n",
    "ax2.set_title('Residuals of Train')\n",
    "ax2.set_xlabel('Predicted values of price')\n",
    "ax2.set_ylabel('Residuals')\n",
    "\n",
    "ax3 = fig.add_subplot(2,2,3) #Histogram of test residuals\n",
    "ax3.hist(test_residuals) \n",
    "\n",
    "ax4 = fig.add_subplot(2,2,4) #Histogram of train residuals\n",
    "ax4.hist(train_residuals, color='orange')"
   ]
  },
  {
   "cell_type": "markdown",
   "metadata": {},
   "source": [
    "After review and checking for heteroscedasticity and test-train mean squared error, the results display the most accurate findings!"
   ]
  },
  {
   "cell_type": "code",
   "execution_count": null,
   "metadata": {},
   "outputs": [],
   "source": [
    "model4_coefficients = pd.DataFrame(model4.params[1:], columns=['coefficients'])"
   ]
  },
  {
   "cell_type": "code",
   "execution_count": null,
   "metadata": {},
   "outputs": [],
   "source": [
    "model4_coefficients.sort_values(by='coefficients', ascending=False)\n"
   ]
  },
  {
   "cell_type": "markdown",
   "metadata": {},
   "source": [
    "# Model Summary"
   ]
  },
  {
   "cell_type": "markdown",
   "metadata": {},
   "source": [
    "Multiple Linear Regression was used to predict the sale prices of the Kings County Data Set, as accurately as possible. 3 Models were trained and tested on a cleaned and normalized version of the data set, in which all 3 models performed well according to validating assumptions such as homoscedasticity and Test/Train mean squared error. However, the 3rd Model proved most effective as each predictor variable represented a statistically significant p-value of less than 0.05. Which then resulted in the predictor variables explaining 65% of the variance."
   ]
  },
  {
   "cell_type": "markdown",
   "metadata": {},
   "source": [
    "# Question 1: How does the number of bathrooms impact housing price?"
   ]
  },
  {
   "cell_type": "code",
   "execution_count": null,
   "metadata": {},
   "outputs": [],
   "source": [
    "x = df[['bathrooms_1.0', 'bathrooms_2.0', 'bathrooms_3.0', 'bathrooms_4.0', 'bathrooms_5.0']]\n",
    "y = df['price']\n",
    "\n",
    "correlation_to_price = []\n",
    "for col in x.columns:\n",
    "    correlation_to_price.append(round(stats.pearsonr(x[col],y)[0],2))\n",
    "\n",
    "correlation_dict={}\n",
    "for i, c in zip(x.columns,correlation_to_price):\n",
    "    correlation_dict[i] = c\n",
    "\n",
    "df_correlation = pd.DataFrame(sorted(correlation_dict.items(),key=lambda x:x[1],reverse=True),columns=['predictors','correlation'])\n"
   ]
  },
  {
   "cell_type": "code",
   "execution_count": null,
   "metadata": {},
   "outputs": [],
   "source": [
    "# To answer this question I'll use a correlation vizualization like I've done previously\n",
    "# as well as add the prices for each predictor\n",
    "fig, ax = plt.subplots(figsize=(13,8))\n",
    "\n",
    "plt.xticks(np.arange(-1,1,.05))\n",
    "plt.yticks(size=15)\n",
    "\n",
    "plt.text(x=-0.11, y=0, s='$83,100', c='black', fontsize=25, verticalalignment='center', bbox=dict(fc='white',ec='black', alpha=0.6))\n",
    "plt.text(x=-0.11, y=1, s='$82,689', c='black', fontsize=25, verticalalignment='center', bbox=dict(fc='white',ec='black', alpha=0.6))\n",
    "plt.text(x=-0.11, y=2, s='$77,303', c='black', fontsize=25, verticalalignment='center', bbox=dict(fc='white',ec='black', alpha=0.6))\n",
    "plt.text(x=-0.11, y=3, s='$122,892', c='black', fontsize=25, verticalalignment='center', bbox=dict(fc='white',ec='black', alpha=0.6))\n",
    "plt.text(x=-0.11, y=4, s='$93,570', c='black', fontsize=25, verticalalignment='center', bbox=dict(fc='white',ec='black', alpha=0.6))\n",
    "\n",
    "plt.title(\"Bathrooms in Correlation to Price\", size=20)\n",
    "plt.xlabel(\"Correlation\", size=20)\n",
    "plt.ylabel(\"Predictors\", size =20)\n",
    "\n",
    "\n",
    "\n",
    "sns.set_theme(font_scale=1)\n",
    "sns.barplot(df_correlation['correlation'],df_correlation['predictors'])"
   ]
  },
  {
   "cell_type": "markdown",
   "metadata": {},
   "source": [
    "This correlation bar graph displays how each number of bathrooms used in my final model correlates with the prices of homes under 1 million. Notice how homes with 1 or 5 bathrooms effects price the most! Hoever the low correlation to price makes this more interesting! This shows that these homes are more unique for middle class families."
   ]
  },
  {
   "cell_type": "code",
   "execution_count": null,
   "metadata": {},
   "outputs": [],
   "source": [
    "bathrooms5 = list(df['bathrooms_5.0'].value_counts())\n",
    "bathrooms4 = list(df['bathrooms_4.0'].value_counts())\n",
    "bathrooms3 = list(df['bathrooms_3.0'].value_counts())\n",
    "\n",
    "bathrooms_order = list(df['bathrooms_2.0'].value_counts())\n",
    "new_order = [1,0]\n",
    "bathrooms2 = [bathrooms_order[i] for i in new_order]\n",
    "\n",
    "\n",
    "bathrooms1 = list(df['bathrooms_1.0'].value_counts())"
   ]
  },
  {
   "cell_type": "code",
   "execution_count": null,
   "metadata": {},
   "outputs": [],
   "source": [
    "\n",
    "\n",
    "category_names = ['No', 'Yes']\n",
    "results = {\n",
    "    '5 Bathrooms': bathrooms5,\n",
    "    '4 Bathrooms': bathrooms4,\n",
    "    '3 Bathrooms': bathrooms3,\n",
    "    '2 Bathrooms': bathrooms2,\n",
    "    '1 Bathroom' : bathrooms1\n",
    "}\n",
    "\n",
    "\n",
    "def survey(results, category_names):\n",
    "    \"\"\"\n",
    "    Parameters\n",
    "    ----------\n",
    "    results : dict\n",
    "        A mapping from question labels to a list of answers per category.\n",
    "        It is assumed all lists contain the same number of entries and that\n",
    "        it matches the length of *category_names*.\n",
    "    category_names : list of str\n",
    "        The category labels.\n",
    "    \"\"\"\n",
    "    labels = list(results.keys())\n",
    "    data = np.array(list(results.values()))\n",
    "    data_cum = data.cumsum(axis=1)\n",
    "    category_colors = plt.get_cmap('RdYlGn')(\n",
    "        np.linspace(0.15, 0.85, data.shape[1]))\n",
    "\n",
    "    fig, ax = plt.subplots(figsize=(12, 7))\n",
    "    ax.invert_yaxis()\n",
    "    ax.xaxis.set_visible(False)\n",
    "    ax.set_xlim(0, np.sum(data, axis=1).max())\n",
    "\n",
    "    for i, (colname, color) in enumerate(zip(category_names, category_colors)):\n",
    "        widths = data[:, i]\n",
    "        starts = data_cum[:, i] - widths\n",
    "        ax.barh(labels, widths, left=starts, height=0.5,\n",
    "                label=colname, color=color)\n",
    "        xcenters = starts + widths / 2\n",
    "\n",
    "        r, g, b, _ = color\n",
    "        text_color = 'white' if r * g * b < 0.5 else 'darkgrey'\n",
    "        for y, (x, c) in enumerate(zip(xcenters, widths)):\n",
    "            ax.text(x, y, str(int(c)), ha='center', va='center', fontsize=20,\n",
    "                    color=text_color)\n",
    "    ax.legend(ncol=len(category_names), bbox_to_anchor=(0, 1),\n",
    "              loc='lower left', fontsize='large')\n",
    "\n",
    "    return fig, ax\n",
    "\n",
    "\n",
    "survey(results, category_names)\n",
    "plt.show()"
   ]
  },
  {
   "cell_type": "markdown",
   "metadata": {},
   "source": [
    "This is another vizualization of the number of bathrooms that are in each of the 14208 units. Here we see that for 2 bathroom units, 9,395 homes have them and 4,814 do not. Of those remaining 4,814 units, the graph displays how many bathrooms each of those remaining units have."
   ]
  },
  {
   "cell_type": "markdown",
   "metadata": {},
   "source": [
    "# Question 2: What is the difference between Condition and Grade and how does it affect the house prices?"
   ]
  },
  {
   "cell_type": "code",
   "execution_count": null,
   "metadata": {},
   "outputs": [],
   "source": [
    "x = df[['condition_5.0', 'condition_4.0', 'condition_3.0', 'condition_2.0']]\n",
    "y = df['price']\n",
    "\n",
    "correlation_to_price = []\n",
    "for col in x.columns:\n",
    "    correlation_to_price.append(round(stats.pearsonr(x[col],y)[0],2))\n",
    "\n",
    "correlation_dict={}\n",
    "for i, c in zip(x.columns,correlation_to_price):\n",
    "    correlation_dict[i] = c\n",
    "\n",
    "df_correlation = pd.DataFrame(sorted(correlation_dict.items(),key=lambda x:x[1],reverse=True),columns=['predictors','correlation'])\n"
   ]
  },
  {
   "cell_type": "code",
   "execution_count": null,
   "metadata": {},
   "outputs": [],
   "source": [
    "fig, ax = plt.subplots(figsize=(13,8))\n",
    "\n",
    "plt.xticks(np.arange(-1,1,.05))\n",
    "plt.yticks(size=15)\n",
    "\n",
    "plt.text(x=-0.02, y=0, s='$101,011', c='black', fontsize=25, verticalalignment='center', bbox=dict(fc='white',ec='black', alpha=0.6))\n",
    "plt.text(x=-0.02, y=1, s='$21,693', c='black', fontsize=25, verticalalignment='center', bbox=dict(fc='white',ec='black', alpha=0.6))\n",
    "plt.text(x=-0.02, y=2, s='$62,995', c='black', fontsize=25, verticalalignment='center', bbox=dict(fc='white',ec='black', alpha=0.6))\n",
    "plt.text(x=-0.02, y=3, s='$13,721', c='black', fontsize=25, verticalalignment='center', bbox=dict(fc='white',ec='black', alpha=0.6))\n",
    "\n",
    "plt.title(\"Condition in Correlation to Price\", size=20)\n",
    "plt.xlabel(\"Correlation\", size=20)\n",
    "plt.ylabel(\"Predictors\", size =20)\n",
    "\n",
    "\n",
    "\n",
    "sns.set_theme(font_scale=1)\n",
    "sns.barplot(df_correlation['correlation'],df_correlation['predictors'])"
   ]
  },
  {
   "cell_type": "markdown",
   "metadata": {},
   "source": [
    "This is a bar graph displaying not only the condition of the homes in correlation with the price but also how each condition score affects price. For example if a home has an overall condition score of 3, then we can expect a $21,000 increase on price."
   ]
  },
  {
   "cell_type": "code",
   "execution_count": null,
   "metadata": {},
   "outputs": [],
   "source": [
    "cond_5 = list(df['condition_5.0'].value_counts())\n",
    "cond_4 = list(df['condition_4.0'].value_counts())\n",
    "\n",
    "cond3_order = list(df['condition_3.0'].value_counts())\n",
    "new_order = [1,0]\n",
    "cond_3 = [cond3_order[i] for i in new_order]\n",
    "\n",
    "cond_2 = list(df['condition_2.0'].value_counts())"
   ]
  },
  {
   "cell_type": "code",
   "execution_count": null,
   "metadata": {},
   "outputs": [],
   "source": [
    "\n",
    "\n",
    "category_names = ['No', 'Yes']\n",
    "results = {\n",
    "    'Condition 5': cond_5,\n",
    "    'Condition 4': cond_4,\n",
    "    'Condition 3': cond_3,\n",
    "    'Condition 2': cond_2\n",
    "}\n",
    "\n",
    "   \n",
    "survey(results, category_names)\n",
    "plt.show()"
   ]
  },
  {
   "cell_type": "markdown",
   "metadata": {},
   "source": [
    "This graph displays each individual condition score and how many units that have been given that score. For example, condition 4 has been given to 3,326 units out of 14208."
   ]
  },
  {
   "cell_type": "code",
   "execution_count": null,
   "metadata": {},
   "outputs": [],
   "source": [
    "x = df[['grade_11.0', 'grade_10.0', 'grade_9.0', 'grade_8.0', 'grade_7.0', 'grade_6.0', 'grade_5.0']]\n",
    "y = df['price']\n",
    "\n",
    "correlation_to_price = []\n",
    "for col in x.columns:\n",
    "    correlation_to_price.append(round(stats.pearsonr(x[col],y)[0],2))\n",
    "\n",
    "correlation_dict={}\n",
    "for i, c in zip(x.columns,correlation_to_price):\n",
    "    correlation_dict[i] = c\n",
    "\n",
    "df_correlation = pd.DataFrame(sorted(correlation_dict.items(),key=lambda x:x[1],reverse=True),columns=['predictors','correlation'])\n"
   ]
  },
  {
   "cell_type": "code",
   "execution_count": null,
   "metadata": {},
   "outputs": [],
   "source": [
    "fig, ax = plt.subplots(figsize=(13,8))\n",
    "\n",
    "plt.xticks(np.arange(-1,1,.05))\n",
    "plt.yticks(size=15)\n",
    "\n",
    "plt.text(x=-0.11, y=0, s='$228,690', c='black', fontsize=25, verticalalignment='center', bbox=dict(fc='white',ec='black', alpha=0.6))\n",
    "plt.text(x=-0.11, y=1, s='$296,694', c='black', fontsize=25, verticalalignment='center', bbox=dict(fc='white',ec='black', alpha=0.6))\n",
    "plt.text(x=-0.11, y=2, s='$136,476', c='black', fontsize=25, verticalalignment='center', bbox=dict(fc='white',ec='black', alpha=0.6))\n",
    "plt.text(x=-0.11, y=3, s='$418,291', c='black', fontsize=25, verticalalignment='center', bbox=dict(fc='white',ec='black', alpha=0.6))\n",
    "plt.text(x=-0.11, y=4, s='$2,650', c='black', fontsize=25, verticalalignment='center', bbox=dict(fc='white',ec='black', alpha=0.6))\n",
    "plt.text(x=-0.11, y=5, s='$72,523', c='black', fontsize=25, verticalalignment='center', bbox=dict(fc='white',ec='black', alpha=0.6))\n",
    "plt.text(x=-0.11, y=6, s='$23,608', c='black', fontsize=25, verticalalignment='center', bbox=dict(fc='white',ec='black', alpha=0.6))\n",
    "plt.title(\"Grade in Correlation to Price\", size=20)\n",
    "plt.xlabel(\"Correlation\", size=20)\n",
    "plt.ylabel(\"Predictors\", size =20)\n",
    "\n",
    "\n",
    "\n",
    "sns.set_theme(font_scale=1)\n",
    "sns.barplot(df_correlation['correlation'],df_correlation['predictors'])"
   ]
  },
  {
   "cell_type": "markdown",
   "metadata": {},
   "source": [
    "Now with grade, there are more higher correlated predictors. And the prices are so high! The grade of a house really adds value to the home."
   ]
  },
  {
   "cell_type": "code",
   "execution_count": null,
   "metadata": {},
   "outputs": [],
   "source": [
    "grade_11 = list(df['grade_11.0'].value_counts())\n",
    "grade_10 = list(df['grade_10.0'].value_counts())\n",
    "grade_9 = list(df['grade_9.0'].value_counts())\n",
    "grade_8 = list(df['grade_8.0'].value_counts())\n",
    "grade_7 = list(df['grade_7.0'].value_counts())\n",
    "grade_6 = list(df['grade_6.0'].value_counts())\n",
    "grade_5 = list(df['grade_5.0'].value_counts())\n",
    "\n",
    "\n",
    "category_names = ['No', 'Yes']\n",
    "results = {\n",
    "    'Grade 11': grade_11,\n",
    "    'Grade 10': grade_10,\n",
    "    'Grade 9': grade_9,\n",
    "    'Grade 8': grade_8,\n",
    "    'Grade 7': grade_7,\n",
    "    'Grade 6': grade_6,\n",
    "    'Grade 5': grade_5\n",
    "}\n",
    "\n",
    "   \n",
    "survey(results, category_names)\n",
    "plt.show()"
   ]
  },
  {
   "cell_type": "markdown",
   "metadata": {},
   "source": [
    "Here we see that grade 7 is the most common grade score out of the 14,209 units. With grade having the potential to add $72,523 to the price of the home."
   ]
  },
  {
   "cell_type": "markdown",
   "metadata": {},
   "source": [
    "# What are the most significant features real estate agents need to know about?"
   ]
  },
  {
   "cell_type": "code",
   "execution_count": null,
   "metadata": {},
   "outputs": [],
   "source": [
    "x = df[['sqft_living', 'renovated_binary', 'floor_2.0', 'waterfront_1.0', 'sqft_basement_binary']]\n",
    "y = df['price']\n",
    "\n",
    "correlation_to_price = []\n",
    "for col in x.columns:\n",
    "    correlation_to_price.append(round(stats.pearsonr(x[col],y)[0],2))\n",
    "\n",
    "correlation_dict={}\n",
    "for i, c in zip(x.columns,correlation_to_price):\n",
    "    correlation_dict[i] = c\n",
    "\n",
    "df_correlation = pd.DataFrame(sorted(correlation_dict.items(),key=lambda x:x[1],reverse=True),columns=['predictors','correlation'])\n"
   ]
  },
  {
   "cell_type": "code",
   "execution_count": null,
   "metadata": {},
   "outputs": [],
   "source": [
    "fig, ax = plt.subplots(figsize=(13,8))\n",
    "\n",
    "plt.xticks(np.arange(-1,1,.05))\n",
    "plt.yticks(size=15)\n",
    "\n",
    "plt.title(\"Predictors in Correlation to Price\", size=20)\n",
    "plt.xlabel(\"Correlation\", size=20)\n",
    "plt.ylabel(\"Predictors\", size =20)\n",
    "plt.text(x=0.26, y=0, s='$97', c='black', fontsize=25, verticalalignment='center', bbox=dict(fc='white',ec='black', alpha=0.6))\n",
    "plt.text(x=0.26, y=1, s='$29,344', c='black', fontsize=25, verticalalignment='center', bbox=dict(fc='white',ec='black', alpha=0.6))\n",
    "plt.text(x=0.26, y=2, s='$22,340', c='black', fontsize=25, verticalalignment='center', bbox=dict(fc='white',ec='black', alpha=0.6))\n",
    "plt.text(x=0.26, y=3, s='$71,645', c='black', fontsize=25, verticalalignment='center', bbox=dict(fc='white',ec='black', alpha=0.6))\n",
    "plt.text(x=0.26, y=4, s='$270,038', c='black', fontsize=25, verticalalignment='center', bbox=dict(fc='white',ec='black', alpha=0.6))\n",
    "\n",
    "sns.set_theme(font_scale=1, palette='mako_r')\n",
    "sns.barplot(df_correlation['correlation'],df_correlation['predictors'])"
   ]
  },
  {
   "cell_type": "markdown",
   "metadata": {},
   "source": [
    "These are some other predictor variables and how they affect price!"
   ]
  },
  {
   "cell_type": "markdown",
   "metadata": {},
   "source": [
    "# Conclusion/Recommendations"
   ]
  },
  {
   "cell_type": "markdown",
   "metadata": {},
   "source": [
    "After running 3 different models, the 3rd model proved to be most significant as each predictor obtained a p-value less than .05. My overall goal was to include as many predictor coefficients as possible while at the same time, including those that showed statistical significance. Unfortunately, after my 3rd and final model, I was left with not much to work with when it came to answering questions relevant to my case. In this case providing as much significant information, such as pricing and predictor correlations to price, for real estate agents. There are some recommendations I have for future work.\n",
    "\n",
    "\n",
    "1. Lat and Long we're not used for questioning. I'd be very interested to see how lat and long combined would not only affect price but affect the other predictors as well. Although lat and long was included, I couldn't make much sense of the results as individuals.\n",
    "\n",
    "2. Dummy variables were used to dive deeper into the categorical columns. My goal was to seek out the categories individually to see how they affect price. The categorical values followed a linear path, therefore would've been fine left alone and not converted into dummy variables. For future reference, leaving the categoricals as is, may prove for more statistical significance.\n",
    "\n",
    "3. Choosing a test size was based off a basic rule of thumb, using 25% as a test size. Sampling different test sizes may prove for higher statistical significance. Unfortunately, I did not get to sample test sizes and therefore continued using 25% without knowing the affect of other test sizes.\n",
    "\n",
    "# Thank you so much for taking the time to review these notebooks!"
   ]
  },
  {
   "cell_type": "code",
   "execution_count": null,
   "metadata": {},
   "outputs": [],
   "source": []
  }
 ],
 "metadata": {
  "kernelspec": {
   "display_name": "Python [conda env:learn-env] *",
   "language": "python",
   "name": "conda-env-learn-env-py"
  },
  "language_info": {
   "codemirror_mode": {
    "name": "ipython",
    "version": 3
   },
   "file_extension": ".py",
   "mimetype": "text/x-python",
   "name": "python",
   "nbconvert_exporter": "python",
   "pygments_lexer": "ipython3",
   "version": "3.6.9"
  }
 },
 "nbformat": 4,
 "nbformat_minor": 2
}
